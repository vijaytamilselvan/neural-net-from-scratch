{
  "nbformat": 4,
  "nbformat_minor": 0,
  "metadata": {
    "colab": {
      "provenance": [],
      "authorship_tag": "ABX9TyNP+Jw5PvlzDgyMyX7kmuo8",
      "include_colab_link": true
    },
    "kernelspec": {
      "name": "python3",
      "display_name": "Python 3"
    },
    "language_info": {
      "name": "python"
    }
  },
  "cells": [
    {
      "cell_type": "markdown",
      "metadata": {
        "id": "view-in-github",
        "colab_type": "text"
      },
      "source": [
        "<a href=\"https://colab.research.google.com/github/vijaytamilselvan/neural-net-from-scratch/blob/main/Trigram.ipynb\" target=\"_parent\"><img src=\"https://colab.research.google.com/assets/colab-badge.svg\" alt=\"Open In Colab\"/></a>"
      ]
    },
    {
      "cell_type": "code",
      "execution_count": 1,
      "metadata": {
        "colab": {
          "base_uri": "https://localhost:8080/"
        },
        "id": "XgpB2gU0y1VX",
        "outputId": "dc579816-c609-4829-f54d-4eaf1e1eeb50"
      },
      "outputs": [
        {
          "output_type": "stream",
          "name": "stdout",
          "text": [
            "Epoch 0, Loss: 2.8506\n",
            "Epoch 20, Loss: 0.4566\n",
            "Epoch 40, Loss: 0.4162\n",
            "Epoch 60, Loss: 0.4142\n",
            "Epoch 80, Loss: 0.4138\n",
            "Epoch 100, Loss: 0.4136\n",
            "Epoch 120, Loss: 0.4135\n",
            "Epoch 140, Loss: 0.4134\n",
            "Epoch 160, Loss: 0.4133\n",
            "Epoch 180, Loss: 0.4132\n",
            "you\n",
            "hello\n",
            "hello\n",
            "doing\n",
            "are\n",
            "are\n",
            "how\n",
            "doing\n",
            "are\n",
            "hello\n"
          ]
        }
      ],
      "source": [
        "import torch\n",
        "import torch.nn as nn\n",
        "import torch.nn.functional as F\n",
        "import random\n",
        "\n",
        "# Sample training data\n",
        "words = [\"hello\", \"hi\", \"how\", \"are\", \"you\", \"doing\", \"today\"]\n",
        "\n",
        "# Build character vocabulary\n",
        "chars = sorted(list(set(\"\".join(words))))\n",
        "stoi = {s: i + 1 for i, s in enumerate(chars)}  # start indexing from 1\n",
        "stoi['.'] = 0  # special token for start/end\n",
        "itos = {i: s for s, i in stoi.items()}\n",
        "vocab_size = len(stoi)\n",
        "\n",
        "# Prepare dataset\n",
        "def build_dataset(words):\n",
        "    X, Y = [], []\n",
        "    for word in words:\n",
        "        context = [0, 0]  # two start tokens\n",
        "        for ch in word + '.':\n",
        "            ix = stoi[ch]\n",
        "            X.append(context)\n",
        "            Y.append(ix)\n",
        "            context = context[1:] + [ix]  # move window\n",
        "    return torch.tensor(X), torch.tensor(Y)\n",
        "\n",
        "X, Y = build_dataset(words)\n",
        "\n",
        "# Define model\n",
        "class TrigramModel(nn.Module):\n",
        "    def __init__(self, vocab_size, embedding_dim=10, hidden_dim=100):\n",
        "        super().__init__()\n",
        "        self.embedding = nn.Embedding(vocab_size, embedding_dim)\n",
        "        self.fc1 = nn.Linear(embedding_dim * 2, hidden_dim)\n",
        "        self.fc2 = nn.Linear(hidden_dim, vocab_size)\n",
        "\n",
        "    def forward(self, x):\n",
        "        emb = self.embedding(x)  # (batch, 2, embedding_dim)\n",
        "        emb = emb.view(emb.shape[0], -1)  # flatten\n",
        "        h = torch.tanh(self.fc1(emb))\n",
        "        logits = self.fc2(h)\n",
        "        return logits\n",
        "\n",
        "model = TrigramModel(vocab_size)\n",
        "optimizer = torch.optim.Adam(model.parameters(), lr=0.01)\n",
        "\n",
        "# Training loop\n",
        "for epoch in range(200):\n",
        "    logits = model(X)\n",
        "    loss = F.cross_entropy(logits, Y)\n",
        "\n",
        "    optimizer.zero_grad()\n",
        "    loss.backward()\n",
        "    optimizer.step()\n",
        "\n",
        "    if epoch % 20 == 0:\n",
        "        print(f\"Epoch {epoch}, Loss: {loss.item():.4f}\")\n",
        "\n",
        "# Generation\n",
        "def generate_words(n=5):\n",
        "    for _ in range(n):\n",
        "        out = []\n",
        "        context = [0, 0]\n",
        "        while True:\n",
        "            x = torch.tensor([context])\n",
        "            logits = model(x)\n",
        "            probs = F.softmax(logits, dim=1)\n",
        "            ix = torch.multinomial(probs, num_samples=1).item()\n",
        "            if ix == 0:\n",
        "                break\n",
        "            out.append(itos[ix])\n",
        "            context = context[1:] + [ix]\n",
        "        print(''.join(out))\n",
        "\n",
        "generate_words(10)\n"
      ]
    }
  ]
}