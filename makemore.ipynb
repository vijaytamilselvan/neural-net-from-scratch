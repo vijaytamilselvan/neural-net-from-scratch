{
  "nbformat": 4,
  "nbformat_minor": 0,
  "metadata": {
    "colab": {
      "provenance": [],
      "authorship_tag": "ABX9TyPEtocm1EYImXBD2JKHBFCB",
      "include_colab_link": true
    },
    "kernelspec": {
      "name": "python3",
      "display_name": "Python 3"
    },
    "language_info": {
      "name": "python"
    }
  },
  "cells": [
    {
      "cell_type": "markdown",
      "metadata": {
        "id": "view-in-github",
        "colab_type": "text"
      },
      "source": [
        "<a href=\"https://colab.research.google.com/github/vijaytamilselvan/neural-net-from-scratch/blob/main/makemore.ipynb\" target=\"_parent\"><img src=\"https://colab.research.google.com/assets/colab-badge.svg\" alt=\"Open In Colab\"/></a>"
      ]
    },
    {
      "cell_type": "code",
      "execution_count": null,
      "metadata": {
        "colab": {
          "base_uri": "https://localhost:8080/",
          "height": 144
        },
        "id": "ZuMOqbnR6rDy",
        "outputId": "54972217-42f0-4ebb-f54d-dcafdd60dd31"
      },
      "outputs": [
        {
          "output_type": "error",
          "ename": "FileNotFoundError",
          "evalue": "[Errno 2] No such file or directory: '/Users/vijay-7262/Downloads/names.txt'",
          "traceback": [
            "\u001b[0;31m---------------------------------------------------------------------------\u001b[0m",
            "\u001b[0;31mFileNotFoundError\u001b[0m                         Traceback (most recent call last)",
            "\u001b[0;32m<ipython-input-11-d9e6cc523bec>\u001b[0m in \u001b[0;36m<cell line: 0>\u001b[0;34m()\u001b[0m\n\u001b[0;32m----> 1\u001b[0;31m \u001b[0mwords\u001b[0m\u001b[0;34m=\u001b[0m\u001b[0mopen\u001b[0m\u001b[0;34m(\u001b[0m\u001b[0;34m'/Users/vijay-7262/Downloads/names.txt'\u001b[0m\u001b[0;34m,\u001b[0m\u001b[0;34m'r'\u001b[0m\u001b[0;34m)\u001b[0m\u001b[0;34m.\u001b[0m\u001b[0mread\u001b[0m\u001b[0;34m(\u001b[0m\u001b[0;34m)\u001b[0m\u001b[0;34m\u001b[0m\u001b[0;34m\u001b[0m\u001b[0m\n\u001b[0m",
            "\u001b[0;31mFileNotFoundError\u001b[0m: [Errno 2] No such file or directory: '/Users/vijay-7262/Downloads/names.txt'"
          ]
        }
      ],
      "source": [
        "words=open('/Users/vijay-7262/Downloads/names.txt','r').read()"
      ]
    },
    {
      "cell_type": "code",
      "source": [
        "from google.colab import files\n",
        "uploaded = files.upload()\n"
      ],
      "metadata": {
        "colab": {
          "base_uri": "https://localhost:8080/",
          "height": 74
        },
        "id": "CIOD-5Qh_ctL",
        "outputId": "a03294fa-de26-4d45-d514-d8ec334931cb"
      },
      "execution_count": 1,
      "outputs": [
        {
          "output_type": "display_data",
          "data": {
            "text/plain": [
              "<IPython.core.display.HTML object>"
            ],
            "text/html": [
              "\n",
              "     <input type=\"file\" id=\"files-0922934c-e616-4b4f-a808-e6901681f3b2\" name=\"files[]\" multiple disabled\n",
              "        style=\"border:none\" />\n",
              "     <output id=\"result-0922934c-e616-4b4f-a808-e6901681f3b2\">\n",
              "      Upload widget is only available when the cell has been executed in the\n",
              "      current browser session. Please rerun this cell to enable.\n",
              "      </output>\n",
              "      <script>// Copyright 2017 Google LLC\n",
              "//\n",
              "// Licensed under the Apache License, Version 2.0 (the \"License\");\n",
              "// you may not use this file except in compliance with the License.\n",
              "// You may obtain a copy of the License at\n",
              "//\n",
              "//      http://www.apache.org/licenses/LICENSE-2.0\n",
              "//\n",
              "// Unless required by applicable law or agreed to in writing, software\n",
              "// distributed under the License is distributed on an \"AS IS\" BASIS,\n",
              "// WITHOUT WARRANTIES OR CONDITIONS OF ANY KIND, either express or implied.\n",
              "// See the License for the specific language governing permissions and\n",
              "// limitations under the License.\n",
              "\n",
              "/**\n",
              " * @fileoverview Helpers for google.colab Python module.\n",
              " */\n",
              "(function(scope) {\n",
              "function span(text, styleAttributes = {}) {\n",
              "  const element = document.createElement('span');\n",
              "  element.textContent = text;\n",
              "  for (const key of Object.keys(styleAttributes)) {\n",
              "    element.style[key] = styleAttributes[key];\n",
              "  }\n",
              "  return element;\n",
              "}\n",
              "\n",
              "// Max number of bytes which will be uploaded at a time.\n",
              "const MAX_PAYLOAD_SIZE = 100 * 1024;\n",
              "\n",
              "function _uploadFiles(inputId, outputId) {\n",
              "  const steps = uploadFilesStep(inputId, outputId);\n",
              "  const outputElement = document.getElementById(outputId);\n",
              "  // Cache steps on the outputElement to make it available for the next call\n",
              "  // to uploadFilesContinue from Python.\n",
              "  outputElement.steps = steps;\n",
              "\n",
              "  return _uploadFilesContinue(outputId);\n",
              "}\n",
              "\n",
              "// This is roughly an async generator (not supported in the browser yet),\n",
              "// where there are multiple asynchronous steps and the Python side is going\n",
              "// to poll for completion of each step.\n",
              "// This uses a Promise to block the python side on completion of each step,\n",
              "// then passes the result of the previous step as the input to the next step.\n",
              "function _uploadFilesContinue(outputId) {\n",
              "  const outputElement = document.getElementById(outputId);\n",
              "  const steps = outputElement.steps;\n",
              "\n",
              "  const next = steps.next(outputElement.lastPromiseValue);\n",
              "  return Promise.resolve(next.value.promise).then((value) => {\n",
              "    // Cache the last promise value to make it available to the next\n",
              "    // step of the generator.\n",
              "    outputElement.lastPromiseValue = value;\n",
              "    return next.value.response;\n",
              "  });\n",
              "}\n",
              "\n",
              "/**\n",
              " * Generator function which is called between each async step of the upload\n",
              " * process.\n",
              " * @param {string} inputId Element ID of the input file picker element.\n",
              " * @param {string} outputId Element ID of the output display.\n",
              " * @return {!Iterable<!Object>} Iterable of next steps.\n",
              " */\n",
              "function* uploadFilesStep(inputId, outputId) {\n",
              "  const inputElement = document.getElementById(inputId);\n",
              "  inputElement.disabled = false;\n",
              "\n",
              "  const outputElement = document.getElementById(outputId);\n",
              "  outputElement.innerHTML = '';\n",
              "\n",
              "  const pickedPromise = new Promise((resolve) => {\n",
              "    inputElement.addEventListener('change', (e) => {\n",
              "      resolve(e.target.files);\n",
              "    });\n",
              "  });\n",
              "\n",
              "  const cancel = document.createElement('button');\n",
              "  inputElement.parentElement.appendChild(cancel);\n",
              "  cancel.textContent = 'Cancel upload';\n",
              "  const cancelPromise = new Promise((resolve) => {\n",
              "    cancel.onclick = () => {\n",
              "      resolve(null);\n",
              "    };\n",
              "  });\n",
              "\n",
              "  // Wait for the user to pick the files.\n",
              "  const files = yield {\n",
              "    promise: Promise.race([pickedPromise, cancelPromise]),\n",
              "    response: {\n",
              "      action: 'starting',\n",
              "    }\n",
              "  };\n",
              "\n",
              "  cancel.remove();\n",
              "\n",
              "  // Disable the input element since further picks are not allowed.\n",
              "  inputElement.disabled = true;\n",
              "\n",
              "  if (!files) {\n",
              "    return {\n",
              "      response: {\n",
              "        action: 'complete',\n",
              "      }\n",
              "    };\n",
              "  }\n",
              "\n",
              "  for (const file of files) {\n",
              "    const li = document.createElement('li');\n",
              "    li.append(span(file.name, {fontWeight: 'bold'}));\n",
              "    li.append(span(\n",
              "        `(${file.type || 'n/a'}) - ${file.size} bytes, ` +\n",
              "        `last modified: ${\n",
              "            file.lastModifiedDate ? file.lastModifiedDate.toLocaleDateString() :\n",
              "                                    'n/a'} - `));\n",
              "    const percent = span('0% done');\n",
              "    li.appendChild(percent);\n",
              "\n",
              "    outputElement.appendChild(li);\n",
              "\n",
              "    const fileDataPromise = new Promise((resolve) => {\n",
              "      const reader = new FileReader();\n",
              "      reader.onload = (e) => {\n",
              "        resolve(e.target.result);\n",
              "      };\n",
              "      reader.readAsArrayBuffer(file);\n",
              "    });\n",
              "    // Wait for the data to be ready.\n",
              "    let fileData = yield {\n",
              "      promise: fileDataPromise,\n",
              "      response: {\n",
              "        action: 'continue',\n",
              "      }\n",
              "    };\n",
              "\n",
              "    // Use a chunked sending to avoid message size limits. See b/62115660.\n",
              "    let position = 0;\n",
              "    do {\n",
              "      const length = Math.min(fileData.byteLength - position, MAX_PAYLOAD_SIZE);\n",
              "      const chunk = new Uint8Array(fileData, position, length);\n",
              "      position += length;\n",
              "\n",
              "      const base64 = btoa(String.fromCharCode.apply(null, chunk));\n",
              "      yield {\n",
              "        response: {\n",
              "          action: 'append',\n",
              "          file: file.name,\n",
              "          data: base64,\n",
              "        },\n",
              "      };\n",
              "\n",
              "      let percentDone = fileData.byteLength === 0 ?\n",
              "          100 :\n",
              "          Math.round((position / fileData.byteLength) * 100);\n",
              "      percent.textContent = `${percentDone}% done`;\n",
              "\n",
              "    } while (position < fileData.byteLength);\n",
              "  }\n",
              "\n",
              "  // All done.\n",
              "  yield {\n",
              "    response: {\n",
              "      action: 'complete',\n",
              "    }\n",
              "  };\n",
              "}\n",
              "\n",
              "scope.google = scope.google || {};\n",
              "scope.google.colab = scope.google.colab || {};\n",
              "scope.google.colab._files = {\n",
              "  _uploadFiles,\n",
              "  _uploadFilesContinue,\n",
              "};\n",
              "})(self);\n",
              "</script> "
            ]
          },
          "metadata": {}
        },
        {
          "output_type": "stream",
          "name": "stdout",
          "text": [
            "Saving names.txt to names.txt\n"
          ]
        }
      ]
    },
    {
      "cell_type": "code",
      "source": [
        "words= open('names.txt','r').read().splitlines()\n",
        "words[:10]"
      ],
      "metadata": {
        "colab": {
          "base_uri": "https://localhost:8080/"
        },
        "id": "6OdEnqyK_iKY",
        "outputId": "fb4b2f08-097d-4b04-f888-d623927a2151"
      },
      "execution_count": 2,
      "outputs": [
        {
          "output_type": "execute_result",
          "data": {
            "text/plain": [
              "['emma',\n",
              " 'olivia',\n",
              " 'ava',\n",
              " 'isabella',\n",
              " 'sophia',\n",
              " 'charlotte',\n",
              " 'mia',\n",
              " 'amelia',\n",
              " 'harper',\n",
              " 'evelyn']"
            ]
          },
          "metadata": {},
          "execution_count": 2
        }
      ]
    },
    {
      "cell_type": "code",
      "source": [
        "len(words)"
      ],
      "metadata": {
        "colab": {
          "base_uri": "https://localhost:8080/"
        },
        "id": "lK7kNJ_UAYgA",
        "outputId": "6e27693a-c4db-40d3-a449-42b0d803f943"
      },
      "execution_count": null,
      "outputs": [
        {
          "output_type": "execute_result",
          "data": {
            "text/plain": [
              "32033"
            ]
          },
          "metadata": {},
          "execution_count": 6
        }
      ]
    },
    {
      "cell_type": "code",
      "source": [
        "import torch\n",
        "N= torch.zeros((28,28),dtype=torch.int32)\n"
      ],
      "metadata": {
        "id": "Izu6hB336HGa"
      },
      "execution_count": 3,
      "outputs": []
    },
    {
      "cell_type": "code",
      "source": [
        "chars=sorted(list(set(''.join(words))))\n",
        "stoi={s:i+1 for i,s in enumerate(chars)}\n",
        "#i+1 is made to initialize speacial character \".\" for the \"0\"\n",
        "stoi['.']=0\n",
        "stoi\n",
        "itos={i:s for s,i in stoi.items()}\n",
        "itos\n",
        "stoi"
      ],
      "metadata": {
        "colab": {
          "base_uri": "https://localhost:8080/"
        },
        "id": "vY497TF_6kiy",
        "outputId": "0c544246-5648-4848-a1f0-95b444e3b67c"
      },
      "execution_count": 4,
      "outputs": [
        {
          "output_type": "execute_result",
          "data": {
            "text/plain": [
              "{'a': 1,\n",
              " 'b': 2,\n",
              " 'c': 3,\n",
              " 'd': 4,\n",
              " 'e': 5,\n",
              " 'f': 6,\n",
              " 'g': 7,\n",
              " 'h': 8,\n",
              " 'i': 9,\n",
              " 'j': 10,\n",
              " 'k': 11,\n",
              " 'l': 12,\n",
              " 'm': 13,\n",
              " 'n': 14,\n",
              " 'o': 15,\n",
              " 'p': 16,\n",
              " 'q': 17,\n",
              " 'r': 18,\n",
              " 's': 19,\n",
              " 't': 20,\n",
              " 'u': 21,\n",
              " 'v': 22,\n",
              " 'w': 23,\n",
              " 'x': 24,\n",
              " 'y': 25,\n",
              " 'z': 26,\n",
              " '.': 0}"
            ]
          },
          "metadata": {},
          "execution_count": 4
        }
      ]
    },
    {
      "cell_type": "code",
      "source": [
        "for w in words:\n",
        "  chs=['.']+list(w)+['.']\n",
        "  for ch1,ch2 in zip(chs,chs[1:]):\n",
        "    ix1=stoi[ch1]\n",
        "    ix2=stoi[ch2]\n",
        "    N[ix1,ix2]+=1\n"
      ],
      "metadata": {
        "id": "s1ZBNrNuCEep"
      },
      "execution_count": 6,
      "outputs": []
    },
    {
      "cell_type": "code",
      "source": [
        "import matplotlib.pyplot as plt\n",
        "%matplotlib inline\n",
        "\n",
        "plt.figure(figsize=(16,16))\n",
        "plt.imshow(N,cmap='Blues')\n",
        "for i in range(27):\n",
        "  for j in range(27):\n",
        "    chstr=itos[i]+itos[j]\n",
        "    plt.text(j,i, chstr, ha=\"center\", va=\"bottom\", color='gray')\n",
        "    plt.text(j,i, N[i,j].item(), ha=\"center\", va=\"top\", color='gray')\n",
        "plt.axis('off');"
      ],
      "metadata": {
        "colab": {
          "base_uri": "https://localhost:8080/",
          "height": 1000
        },
        "id": "sTWImDupITUT",
        "outputId": "7c62b7ad-b286-4067-96ca-4dccd6ca8123"
      },
      "execution_count": 6,
      "outputs": [
        {
          "output_type": "error",
          "ename": "NameError",
          "evalue": "name 'itos' is not defined",
          "traceback": [
            "\u001b[0;31m---------------------------------------------------------------------------\u001b[0m",
            "\u001b[0;31mNameError\u001b[0m                                 Traceback (most recent call last)",
            "\u001b[0;32m<ipython-input-6-d6437348c1c3>\u001b[0m in \u001b[0;36m<cell line: 0>\u001b[0;34m()\u001b[0m\n\u001b[1;32m      6\u001b[0m \u001b[0;32mfor\u001b[0m \u001b[0mi\u001b[0m \u001b[0;32min\u001b[0m \u001b[0mrange\u001b[0m\u001b[0;34m(\u001b[0m\u001b[0;36m27\u001b[0m\u001b[0;34m)\u001b[0m\u001b[0;34m:\u001b[0m\u001b[0;34m\u001b[0m\u001b[0;34m\u001b[0m\u001b[0m\n\u001b[1;32m      7\u001b[0m   \u001b[0;32mfor\u001b[0m \u001b[0mj\u001b[0m \u001b[0;32min\u001b[0m \u001b[0mrange\u001b[0m\u001b[0;34m(\u001b[0m\u001b[0;36m27\u001b[0m\u001b[0;34m)\u001b[0m\u001b[0;34m:\u001b[0m\u001b[0;34m\u001b[0m\u001b[0;34m\u001b[0m\u001b[0m\n\u001b[0;32m----> 8\u001b[0;31m     \u001b[0mchstr\u001b[0m\u001b[0;34m=\u001b[0m\u001b[0mitos\u001b[0m\u001b[0;34m[\u001b[0m\u001b[0mi\u001b[0m\u001b[0;34m]\u001b[0m\u001b[0;34m+\u001b[0m\u001b[0mitos\u001b[0m\u001b[0;34m[\u001b[0m\u001b[0mj\u001b[0m\u001b[0;34m]\u001b[0m\u001b[0;34m\u001b[0m\u001b[0;34m\u001b[0m\u001b[0m\n\u001b[0m\u001b[1;32m      9\u001b[0m     \u001b[0mplt\u001b[0m\u001b[0;34m.\u001b[0m\u001b[0mtext\u001b[0m\u001b[0;34m(\u001b[0m\u001b[0mj\u001b[0m\u001b[0;34m,\u001b[0m\u001b[0mi\u001b[0m\u001b[0;34m,\u001b[0m \u001b[0mchstr\u001b[0m\u001b[0;34m,\u001b[0m \u001b[0mha\u001b[0m\u001b[0;34m=\u001b[0m\u001b[0;34m\"center\"\u001b[0m\u001b[0;34m,\u001b[0m \u001b[0mva\u001b[0m\u001b[0;34m=\u001b[0m\u001b[0;34m\"bottom\"\u001b[0m\u001b[0;34m,\u001b[0m \u001b[0mcolor\u001b[0m\u001b[0;34m=\u001b[0m\u001b[0;34m'gray'\u001b[0m\u001b[0;34m)\u001b[0m\u001b[0;34m\u001b[0m\u001b[0;34m\u001b[0m\u001b[0m\n\u001b[1;32m     10\u001b[0m     \u001b[0mplt\u001b[0m\u001b[0;34m.\u001b[0m\u001b[0mtext\u001b[0m\u001b[0;34m(\u001b[0m\u001b[0mj\u001b[0m\u001b[0;34m,\u001b[0m\u001b[0mi\u001b[0m\u001b[0;34m,\u001b[0m \u001b[0mN\u001b[0m\u001b[0;34m[\u001b[0m\u001b[0mi\u001b[0m\u001b[0;34m,\u001b[0m\u001b[0mj\u001b[0m\u001b[0;34m]\u001b[0m\u001b[0;34m.\u001b[0m\u001b[0mitem\u001b[0m\u001b[0;34m(\u001b[0m\u001b[0;34m)\u001b[0m\u001b[0;34m,\u001b[0m \u001b[0mha\u001b[0m\u001b[0;34m=\u001b[0m\u001b[0;34m\"center\"\u001b[0m\u001b[0;34m,\u001b[0m \u001b[0mva\u001b[0m\u001b[0;34m=\u001b[0m\u001b[0;34m\"top\"\u001b[0m\u001b[0;34m,\u001b[0m \u001b[0mcolor\u001b[0m\u001b[0;34m=\u001b[0m\u001b[0;34m'gray'\u001b[0m\u001b[0;34m)\u001b[0m\u001b[0;34m\u001b[0m\u001b[0;34m\u001b[0m\u001b[0m\n",
            "\u001b[0;31mNameError\u001b[0m: name 'itos' is not defined"
          ]
        },
        {
          "output_type": "display_data",
          "data": {
            "text/plain": [
              "<Figure size 1600x1600 with 1 Axes>"
            ],
            "image/png": "[encoded data removed]"
          },
          "metadata": {}
        }
      ]
    },
    {
      "cell_type": "markdown",
      "source": [],
      "metadata": {
        "id": "kKuYW7YvpY2E"
      }
    },
    {
      "cell_type": "code",
      "source": [
        "P=(N+1).float()\n",
        "#N+1 is included as a laplace smoothing as probabilities leads to zero when thr is no combination appears in N. So we have made 1 as a default.\n",
        "P/=P.sum(1,keepdim=True) # sum over the columns\n",
        "print(P)"
      ],
      "metadata": {
        "colab": {
          "base_uri": "https://localhost:8080/"
        },
        "id": "4Jz2bFl8ooSB",
        "outputId": "4e0d36dc-d224-4639-f9d3-92c88daa857c"
      },
      "execution_count": 7,
      "outputs": [
        {
          "output_type": "stream",
          "name": "stdout",
          "text": [
            "tensor([[3.1191e-05, 1.3758e-01, 4.0766e-02, 4.8127e-02, 5.2743e-02, 4.7784e-02,\n",
            "         1.3038e-02, 2.0898e-02, 2.7292e-02, 1.8465e-02, 7.5575e-02, 9.2449e-02,\n",
            "         4.9063e-02, 7.9193e-02, 3.5776e-02, 1.2320e-02, 1.6094e-02, 2.9007e-03,\n",
            "         5.1152e-02, 6.4128e-02, 4.0828e-02, 2.4641e-03, 1.1759e-02, 9.6067e-03,\n",
            "         4.2107e-03, 1.6718e-02, 2.9007e-02, 3.1191e-05],\n",
            "        [1.9582e-01, 1.6424e-02, 1.5982e-02, 1.3888e-02, 3.0755e-02, 2.0435e-02,\n",
            "         3.9808e-03, 4.9833e-03, 6.8794e-02, 4.8683e-02, 5.1898e-03, 1.6778e-02,\n",
            "         7.4573e-02, 4.8212e-02, 1.6038e-01, 1.8872e-03, 2.4474e-03, 1.7987e-03,\n",
            "         9.6276e-02, 3.2996e-02, 2.0287e-02, 1.1264e-02, 2.4622e-02, 4.7769e-03,\n",
            "         5.3962e-03, 6.0478e-02, 1.2856e-02, 2.9487e-05],\n",
            "        [4.3023e-02, 1.2046e-01, 1.4590e-02, 7.4822e-04, 2.4691e-02, 2.4542e-01,\n",
            "         3.7411e-04, 3.7411e-04, 1.5713e-02, 8.1556e-02, 7.4822e-04, 3.7411e-04,\n",
            "         3.8908e-02, 3.7411e-04, 1.8706e-03, 3.9656e-02, 3.7411e-04, 3.7411e-04,\n",
            "         3.1538e-01, 3.3670e-03, 1.1223e-03, 1.7209e-02, 3.7411e-04, 3.7411e-04,\n",
            "         3.7411e-04, 3.1425e-02, 3.7411e-04, 3.7411e-04],\n",
            "        [2.7528e-02, 2.2921e-01, 2.8090e-04, 1.2079e-02, 5.6180e-04, 1.5506e-01,\n",
            "         2.8090e-04, 8.4270e-04, 1.8680e-01, 7.6404e-02, 1.1236e-03, 8.9045e-02,\n",
            "         3.2865e-02, 2.8090e-04, 2.8090e-04, 1.0702e-01, 5.6180e-04, 3.3708e-03,\n",
            "         2.1629e-02, 1.6854e-03, 1.0112e-02, 1.0112e-02, 2.8090e-04, 2.8090e-04,\n",
            "         1.1236e-03, 2.9494e-02, 1.4045e-03, 2.8090e-04],\n",
            "        [9.3592e-02, 2.3606e-01, 3.6206e-04, 7.2411e-04, 2.7154e-02, 2.3244e-01,\n",
            "         1.0862e-03, 4.7067e-03, 2.1542e-02, 1.2219e-01, 1.8103e-03, 7.2411e-04,\n",
            "         1.1043e-02, 5.6119e-03, 5.7929e-03, 6.8610e-02, 1.8103e-04, 3.6206e-04,\n",
            "         7.6937e-02, 5.4308e-03, 9.0514e-04, 1.6836e-02, 3.2585e-03, 4.3447e-03,\n",
            "         1.8103e-04, 5.7567e-02, 3.6206e-04, 1.8103e-04],\n",
            "        [1.9481e-01, 3.3250e-02, 5.9655e-03, 7.5302e-03, 1.8825e-02, 6.2197e-02,\n",
            "         4.0585e-03, 6.1611e-03, 7.4813e-03, 4.0047e-02, 2.7383e-03, 8.7526e-03,\n",
            "         1.5887e-01, 3.7651e-02, 1.3085e-01, 1.3202e-02, 4.1074e-03, 7.3346e-04,\n",
            "         9.5790e-02, 4.2150e-02, 2.8409e-02, 3.4228e-03, 2.2688e-02, 2.4938e-03,\n",
            "         6.5033e-03, 5.2369e-02, 8.8993e-03, 4.8897e-05],\n",
            "        [8.6817e-02, 2.6045e-01, 1.0718e-03, 1.0718e-03, 1.0718e-03, 1.3290e-01,\n",
            "         4.8232e-02, 2.1436e-03, 2.1436e-03, 1.7256e-01, 1.0718e-03, 3.2154e-03,\n",
            "         2.2508e-02, 1.0718e-03, 5.3591e-03, 6.5380e-02, 1.0718e-03, 1.0718e-03,\n",
            "         1.2326e-01, 7.5027e-03, 2.0364e-02, 1.1790e-02, 1.0718e-03, 5.3591e-03,\n",
            "         1.0718e-03, 1.6077e-02, 3.2154e-03, 1.0718e-03],\n",
            "        [5.5754e-02, 1.6931e-01, 2.0460e-03, 5.1151e-04, 1.0230e-02, 1.7136e-01,\n",
            "         1.0230e-03, 1.3299e-02, 1.8465e-01, 9.7698e-02, 2.0460e-03, 5.1151e-04,\n",
            "         1.6880e-02, 3.5806e-03, 1.4322e-02, 4.2967e-02, 5.1151e-04, 5.1151e-04,\n",
            "         1.0332e-01, 1.5857e-02, 1.6368e-02, 4.3990e-02, 1.0230e-03, 1.3811e-02,\n",
            "         5.1151e-04, 1.6368e-02, 1.0230e-03, 5.1151e-04],\n",
            "        [3.1528e-01, 2.9369e-01, 1.1774e-03, 3.9246e-04, 3.2705e-03, 8.8305e-02,\n",
            "         3.9246e-04, 3.9246e-04, 2.6164e-04, 9.5500e-02, 1.3082e-03, 3.9246e-03,\n",
            "         2.4333e-02, 1.5437e-02, 1.8184e-02, 3.7677e-02, 2.6164e-04, 2.6164e-04,\n",
            "         2.6818e-02, 4.1863e-03, 9.4192e-03, 2.1847e-02, 5.2329e-03, 1.4390e-03,\n",
            "         1.3082e-04, 2.7996e-02, 2.7473e-03, 1.3082e-04],\n",
            "        [1.4045e-01, 1.3797e-01, 6.2609e-03, 2.8766e-02, 2.4874e-02, 9.3293e-02,\n",
            "         5.7533e-03, 2.4198e-02, 5.4149e-03, 4.6816e-03, 4.3432e-03, 2.5157e-02,\n",
            "         7.5921e-02, 2.4141e-02, 1.1997e-01, 3.3222e-02, 3.0459e-03, 2.9895e-03,\n",
            "         4.7944e-02, 7.4285e-02, 3.0571e-02, 6.2045e-03, 1.5229e-02, 5.0764e-04,\n",
            "         5.0764e-03, 4.3996e-02, 1.5681e-02, 5.6405e-05],\n",
            "        [2.4590e-02, 5.0342e-01, 6.8306e-04, 1.7077e-03, 1.7077e-03, 1.5061e-01,\n",
            "         3.4153e-04, 3.4153e-04, 1.5710e-02, 4.0984e-02, 1.0246e-03, 1.0246e-03,\n",
            "         3.4153e-03, 2.0492e-03, 1.0246e-03, 1.6393e-01, 6.8306e-04, 3.4153e-04,\n",
            "         4.0984e-03, 2.7322e-03, 1.0246e-03, 6.9331e-02, 2.0492e-03, 2.3907e-03,\n",
            "         3.4153e-04, 3.7568e-03, 3.4153e-04, 3.4153e-04],\n",
            "        [7.1823e-02, 3.4175e-01, 5.9195e-04, 5.9195e-04, 5.9195e-04, 1.7680e-01,\n",
            "         3.9463e-04, 1.9732e-04, 6.0773e-02, 1.0063e-01, 5.9195e-04, 4.1436e-03,\n",
            "         2.7624e-02, 1.9732e-03, 5.3275e-03, 6.8074e-02, 1.9732e-04, 1.9732e-04,\n",
            "         2.1705e-02, 1.8942e-02, 3.5517e-03, 1.0063e-02, 5.9195e-04, 6.9061e-03,\n",
            "         1.9732e-04, 7.4980e-02, 5.9195e-04, 1.9732e-04],\n",
            "        [9.4023e-02, 1.8762e-01, 3.7895e-03, 1.8590e-03, 9.9385e-03, 2.0892e-01,\n",
            "         1.6445e-03, 5.0050e-04, 1.4300e-03, 1.7739e-01, 5.0050e-04, 1.7875e-03,\n",
            "         9.6239e-02, 4.3615e-03, 1.0725e-03, 4.9550e-02, 1.1440e-03, 2.8600e-04,\n",
            "         1.3585e-03, 6.7925e-03, 5.5770e-03, 2.3238e-02, 5.2195e-03, 1.2155e-03,\n",
            "         7.1500e-05, 1.1361e-01, 7.8650e-04, 7.1500e-05],\n",
            "        [7.7511e-02, 3.8846e-01, 1.6942e-02, 7.7961e-03, 3.7481e-03, 1.2279e-01,\n",
            "         2.9985e-04, 1.4993e-04, 8.9955e-04, 1.8846e-01, 1.1994e-03, 2.9985e-04,\n",
            "         8.9955e-04, 2.5337e-02, 3.1484e-03, 6.7916e-02, 5.8471e-03, 1.4993e-04,\n",
            "         1.4693e-02, 5.3973e-03, 7.4963e-04, 2.0990e-02, 5.9970e-04, 4.4978e-04,\n",
            "         1.4993e-04, 4.3178e-02, 1.7991e-03, 1.4993e-04],\n",
            "        [3.6851e-01, 1.6224e-01, 4.9033e-04, 1.1659e-02, 3.8409e-02, 7.4094e-02,\n",
            "         6.5377e-04, 1.4928e-02, 1.4710e-03, 9.4034e-02, 2.4516e-03, 3.2144e-03,\n",
            "         1.0678e-02, 1.0896e-03, 1.0390e-01, 2.7077e-02, 3.2689e-04, 1.6344e-04,\n",
            "         2.4516e-03, 1.5200e-02, 2.4190e-02, 5.2847e-03, 3.0509e-03, 6.5377e-04,\n",
            "         3.8137e-04, 2.5388e-02, 7.9542e-03, 5.4481e-05],\n",
            "        [1.0751e-01, 1.8839e-02, 1.7709e-02, 1.4444e-02, 2.3989e-02, 1.6704e-02,\n",
            "         4.3959e-03, 5.6518e-03, 2.1603e-02, 8.7918e-03, 2.1351e-03, 8.6662e-03,\n",
            "         7.7870e-02, 3.2906e-02, 3.0294e-01, 1.4569e-02, 1.2057e-02, 5.0239e-04,\n",
            "         1.3313e-01, 6.3426e-02, 1.4946e-02, 3.4665e-02, 2.2231e-02, 1.4444e-02,\n",
            "         5.7774e-03, 1.3062e-02, 6.9078e-03, 1.2560e-04],\n",
            "        [3.2258e-02, 1.9924e-01, 2.8463e-03, 1.8975e-03, 9.4877e-04, 1.8786e-01,\n",
            "         1.8975e-03, 9.4877e-04, 1.9450e-01, 5.8824e-02, 1.8975e-03, 1.8975e-03,\n",
            "         1.6129e-02, 1.8975e-03, 1.8975e-03, 5.6926e-02, 3.7951e-02, 9.4877e-04,\n",
            "         1.4421e-01, 1.6129e-02, 1.7078e-02, 4.7438e-03, 9.4877e-04, 9.4877e-04,\n",
            "         9.4877e-04, 1.2334e-02, 9.4877e-04, 9.4877e-04],\n",
            "        [9.6667e-02, 4.6667e-02, 3.3333e-03, 3.3333e-03, 3.3333e-03, 6.6667e-03,\n",
            "         3.3333e-03, 3.3333e-03, 3.3333e-03, 4.6667e-02, 3.3333e-03, 3.3333e-03,\n",
            "         6.6667e-03, 1.0000e-02, 3.3333e-03, 1.0000e-02, 3.3333e-03, 3.3333e-03,\n",
            "         6.6667e-03, 1.0000e-02, 3.3333e-03, 6.9000e-01, 3.3333e-03, 1.3333e-02,\n",
            "         3.3333e-03, 3.3333e-03, 3.3333e-03, 3.3333e-03],\n",
            "        [1.0827e-01, 1.8518e-01, 3.2998e-03, 7.8567e-03, 1.4771e-02, 1.3341e-01,\n",
            "         7.8567e-04, 6.0497e-03, 9.5852e-03, 2.3837e-01, 2.0427e-03, 7.1496e-03,\n",
            "         3.2527e-02, 1.2806e-02, 1.1078e-02, 6.8353e-02, 1.1785e-03, 1.3356e-03,\n",
            "         3.3470e-02, 1.5006e-02, 1.6420e-02, 1.9877e-02, 6.3639e-03, 1.7285e-03,\n",
            "         3.1427e-04, 6.0811e-02, 1.8856e-03, 7.8567e-05],\n",
            "        [1.4384e-01, 1.4777e-01, 2.7047e-03, 7.4994e-03, 1.2294e-03, 1.0880e-01,\n",
            "         3.6882e-04, 3.6882e-04, 1.5810e-01, 8.4214e-02, 3.6882e-04, 1.0204e-02,\n",
            "         3.4423e-02, 1.1188e-02, 3.0735e-03, 6.5404e-02, 6.3929e-03, 2.4588e-04,\n",
            "         6.8847e-03, 5.6799e-02, 9.4173e-02, 2.2867e-02, 1.8441e-03, 3.0735e-03,\n",
            "         1.2294e-04, 2.6555e-02, 1.3523e-03, 1.2294e-04],\n",
            "        [8.6459e-02, 1.8364e-01, 3.5727e-04, 3.2154e-03, 1.7864e-04, 1.2808e-01,\n",
            "         5.3591e-04, 5.3591e-04, 1.1576e-01, 9.5213e-02, 7.1454e-04, 1.7864e-04,\n",
            "         2.4116e-02, 8.9318e-04, 4.1086e-03, 1.1933e-01, 1.7864e-04, 1.7864e-04,\n",
            "         6.3058e-02, 6.4309e-03, 6.6988e-02, 1.4112e-02, 2.8582e-03, 2.1436e-03,\n",
            "         5.3591e-04, 6.1093e-02, 1.8935e-02, 1.7864e-04],\n",
            "        [4.9320e-02, 5.1850e-02, 3.2880e-02, 3.2880e-02, 4.3313e-02, 5.3746e-02,\n",
            "         6.3231e-03, 1.5175e-02, 1.8653e-02, 3.8571e-02, 4.7423e-03, 2.9719e-02,\n",
            "         9.5479e-02, 4.9004e-02, 8.7259e-02, 3.4777e-03, 5.3746e-03, 3.4777e-03,\n",
            "         1.3120e-01, 1.5017e-01, 2.6241e-02, 1.2646e-03, 1.2014e-02, 2.7506e-02,\n",
            "         1.1065e-02, 4.4262e-03, 1.4543e-02, 3.1616e-04],\n",
            "        [3.4218e-02, 2.4721e-01, 7.6894e-04, 3.8447e-04, 7.6894e-04, 2.1876e-01,\n",
            "         3.8447e-04, 3.8447e-04, 7.6894e-04, 3.5063e-01, 3.8447e-04, 1.5379e-03,\n",
            "         5.7670e-03, 3.8447e-04, 3.4602e-03, 5.9208e-02, 3.8447e-04, 3.8447e-04,\n",
            "         1.8839e-02, 3.8447e-04, 3.8447e-04, 3.0757e-03, 3.0757e-03, 3.8447e-04,\n",
            "         3.8447e-04, 4.6905e-02, 3.8447e-04, 3.8447e-04],\n",
            "        [5.4336e-02, 2.9363e-01, 2.0899e-03, 1.0449e-03, 9.4044e-03, 1.5674e-01,\n",
            "         3.1348e-03, 2.0899e-03, 2.5078e-02, 1.5569e-01, 1.0449e-03, 7.3145e-03,\n",
            "         1.4629e-02, 3.1348e-03, 6.1651e-02, 3.8662e-02, 1.0449e-03, 1.0449e-03,\n",
            "         2.4033e-02, 2.1944e-02, 9.4044e-03, 2.7168e-02, 1.0449e-03, 3.1348e-03,\n",
            "         1.0449e-03, 7.7325e-02, 2.0899e-03, 1.0449e-03],\n",
            "        [2.2759e-01, 1.4345e-01, 2.7586e-03, 6.8966e-03, 8.2759e-03, 5.1034e-02,\n",
            "         5.5172e-03, 1.3793e-03, 2.7586e-03, 1.4207e-01, 1.3793e-03, 1.3793e-03,\n",
            "         5.5172e-02, 2.7586e-03, 2.7586e-03, 5.7931e-02, 1.3793e-03, 1.3793e-03,\n",
            "         1.3793e-03, 4.4138e-02, 9.7931e-02, 8.2759e-03, 1.3793e-03, 5.5172e-03,\n",
            "         5.3793e-02, 4.2759e-02, 2.7586e-02, 1.3793e-03],\n",
            "        [2.0481e-01, 2.1869e-01, 2.8560e-03, 1.1832e-02, 2.7846e-02, 3.0804e-02,\n",
            "         1.3260e-03, 3.1620e-03, 2.3460e-03, 1.9686e-02, 2.4480e-03, 8.8739e-03,\n",
            "         1.1271e-01, 1.5198e-02, 1.8635e-01, 2.7744e-02, 1.6320e-03, 7.1399e-04,\n",
            "         2.9784e-02, 4.1004e-02, 1.0710e-02, 1.4484e-02, 1.0914e-02, 5.1000e-04,\n",
            "         2.9580e-03, 2.4480e-03, 8.0579e-03, 1.0200e-04],\n",
            "        [6.6364e-02, 3.5491e-01, 2.0610e-03, 1.2366e-03, 1.2366e-03, 1.5416e-01,\n",
            "         4.1220e-04, 8.2440e-04, 1.8137e-02, 1.5045e-01, 1.2366e-03, 1.2366e-03,\n",
            "         5.1113e-02, 1.4839e-02, 2.0610e-03, 4.5754e-02, 1.2366e-03, 4.1220e-04,\n",
            "         1.3603e-02, 2.0610e-03, 2.0610e-03, 3.0503e-02, 1.2366e-03, 1.6488e-03,\n",
            "         8.2440e-04, 6.1006e-02, 1.8961e-02, 4.1220e-04],\n",
            "        [3.5714e-02, 3.5714e-02, 3.5714e-02, 3.5714e-02, 3.5714e-02, 3.5714e-02,\n",
            "         3.5714e-02, 3.5714e-02, 3.5714e-02, 3.5714e-02, 3.5714e-02, 3.5714e-02,\n",
            "         3.5714e-02, 3.5714e-02, 3.5714e-02, 3.5714e-02, 3.5714e-02, 3.5714e-02,\n",
            "         3.5714e-02, 3.5714e-02, 3.5714e-02, 3.5714e-02, 3.5714e-02, 3.5714e-02,\n",
            "         3.5714e-02, 3.5714e-02, 3.5714e-02, 3.5714e-02]])\n"
          ]
        }
      ]
    },
    {
      "cell_type": "code",
      "source": [
        "g= torch.Generator().manual_seed(2147483647)\n",
        "\n",
        "for i in range(50):\n",
        "\n",
        "  out=[]\n",
        "  ix=0\n",
        "\n",
        "  while True:\n",
        "    p=P[ix]\n",
        "    ix=torch.multinomial(p,num_samples=1,replacement=True,generator=g).item()\n",
        "\n",
        "    out.append(itos[ix])\n",
        "    if ix==0:\n",
        "      break\n",
        "  print(''.join(out))\n",
        "\n"
      ],
      "metadata": {
        "colab": {
          "base_uri": "https://localhost:8080/"
        },
        "id": "BPKKjpLtVVSo",
        "outputId": "0cbe0c59-a529-4b49-c9a8-13e62164ecfc"
      },
      "execution_count": 10,
      "outputs": [
        {
          "output_type": "stream",
          "name": "stdout",
          "text": [
            "junide.\n",
            "janasah.\n",
            "p.\n",
            "cony.\n",
            "a.\n",
            "nn.\n",
            "kohin.\n",
            "tolian.\n",
            "juee.\n",
            "ksahnaauranilevias.\n",
            "dedainrwieta.\n",
            "ssonielylarte.\n",
            "faveumerifontume.\n",
            "phynslenaruani.\n",
            "core.\n",
            "yaenon.\n",
            "ka.\n",
            "jabdinerimikimaynin.\n",
            "anaasn.\n",
            "ssorionsush.\n",
            "dgossmitan.\n",
            "il.\n",
            "le.\n",
            "pann.\n",
            "that.\n",
            "janreli.\n",
            "isa.\n",
            "dyn.\n",
            "rijelumemahaunayaleva.\n",
            "cararr.\n",
            "jen.\n",
            "janarta.\n",
            "maly.\n",
            "abely.\n",
            "a.\n",
            "i.\n",
            "lavadoni.\n",
            "themielyawat.\n",
            "f.\n",
            "modam.\n",
            "tavilitikiesaloeverin.\n",
            "n.\n",
            "e.\n",
            "kalbrenelah.\n",
            "anen.\n",
            "ch.\n",
            "k.\n",
            "jan.\n",
            "odridrdenanialilpergha.\n",
            "tezralelia.\n"
          ]
        }
      ]
    },
    {
      "cell_type": "code",
      "source": [
        "Computing the log_likelihood as computing with probabilities are difficult as it can leads to zero. So computing log which would be easier to optimize."
      ],
      "metadata": {
        "colab": {
          "base_uri": "https://localhost:8080/",
          "height": 126
        },
        "id": "eF9qkE7Zayw8",
        "outputId": "8d818b8f-270d-4a08-ab00-a4090f16be19"
      },
      "execution_count": 18,
      "outputs": [
        {
          "output_type": "error",
          "ename": "SyntaxError",
          "evalue": "invalid syntax (<ipython-input-18-4a349a5a0ba7>, line 1)",
          "traceback": [
            "\u001b[0;36m  File \u001b[0;32m\"<ipython-input-18-4a349a5a0ba7>\"\u001b[0;36m, line \u001b[0;32m1\u001b[0m\n\u001b[0;31m    Computing the log_likelihood as computing with probabilities are difficult as it can leads to zero. So computing log which would be easier to optimize.\u001b[0m\n\u001b[0m              ^\u001b[0m\n\u001b[0;31mSyntaxError\u001b[0m\u001b[0;31m:\u001b[0m invalid syntax\n"
          ]
        }
      ]
    },
    {
      "cell_type": "code",
      "source": [
        "# log likelihood represents how likely the model predicts the correct output.\n",
        "\n",
        "log_likelihood=0.0\n",
        "n=0\n",
        "#for w in words[:3]:\n",
        "for w in [\"vijajqp\"]:\n",
        "  chs=['.']+list(w)+['.']\n",
        "  for ch1,ch2 in zip(chs,chs[1:]):\n",
        "    ix1=stoi[ch1]\n",
        "    ix2=stoi[ch2]\n",
        "    N[ix1,ix2]+=1\n",
        "    prob=P[ix1][ix2]\n",
        "    logprob=torch.log(prob)\n",
        "    log_likelihood+=logprob\n",
        "    n+=1\n",
        "    print(f'{ch1}{ch2}: {prob:.4f}')\n",
        "\n",
        "print(f'{log_likelihood=}')\n",
        "nll=-log_likelihood\n",
        "print(f'{nll=}')\n",
        "print(f'{nll/n=}')\n"
      ],
      "metadata": {
        "colab": {
          "base_uri": "https://localhost:8080/"
        },
        "id": "ONJ7n-MXs31Q",
        "outputId": "909d9c30-786d-423a-fa65-408fe6d22d8f"
      },
      "execution_count": 9,
      "outputs": [
        {
          "output_type": "stream",
          "name": "stdout",
          "text": [
            ".v: 0.0118\n",
            "vi: 0.3506\n",
            "ij: 0.0043\n",
            "ja: 0.5034\n",
            "aj: 0.0052\n",
            "jq: 0.0003\n",
            "qp: 0.0033\n",
            "p.: 0.0323\n",
            "log_likelihood=tensor(-33.9976)\n",
            "nll=tensor(33.9976)\n",
            "nll/n=tensor(4.2497)\n"
          ]
        }
      ]
    },
    {
      "cell_type": "markdown",
      "source": [
        "One-hot vector encoding"
      ],
      "metadata": {
        "id": "zthETl9kcW0U"
      }
    },
    {
      "cell_type": "markdown",
      "source": [],
      "metadata": {
        "id": "NPhwOA97Y9M-"
      }
    },
    {
      "cell_type": "code",
      "source": [
        "#Taking each character in the word and then convert them into integer and then\n",
        "#form a tensor to give it as input to the model\n",
        "\n",
        "xs=[]\n",
        "ys=[]\n",
        "for w in words:\n",
        "  chs=['.']+list(w)+['.']\n",
        "  for ch1,ch2 in zip(chs,chs[1:]):\n",
        "    ix1=stoi[ch1]\n",
        "    ix2=stoi[ch2]\n",
        "    xs.append(ix1)\n",
        "    ys.append(ix2)\n",
        "\n",
        "xs=torch.tensor(xs)\n",
        "ys=torch.tensor(ys)\n",
        "\n",
        "xs.shape\n",
        "\n",
        "\n",
        "\n"
      ],
      "metadata": {
        "colab": {
          "base_uri": "https://localhost:8080/"
        },
        "id": "fHu5dI9MBto1",
        "outputId": "4c0532e7-8059-408b-d5df-a330120ed383"
      },
      "execution_count": 90,
      "outputs": [
        {
          "output_type": "execute_result",
          "data": {
            "text/plain": [
              "torch.Size([228146])"
            ]
          },
          "metadata": {},
          "execution_count": 90
        }
      ]
    },
    {
      "cell_type": "code",
      "source": [
        "#one-hot vector encoding to convert the int to vector\n",
        "import torch.nn.functional as F\n",
        "xenc=F.one_hot(xs,num_classes=27).float()\n",
        "xenc.shape\n"
      ],
      "metadata": {
        "colab": {
          "base_uri": "https://localhost:8080/"
        },
        "id": "kSAb65mfeRGO",
        "outputId": "2a3da5d0-8069-4963-ac93-a6f3503bd6c8"
      },
      "execution_count": 92,
      "outputs": [
        {
          "output_type": "execute_result",
          "data": {
            "text/plain": [
              "torch.Size([228146, 27])"
            ]
          },
          "metadata": {},
          "execution_count": 92
        }
      ]
    },
    {
      "cell_type": "code",
      "source": [
        "g=torch.Generator().manual_seed(2147483647)\n",
        "W=torch.randn((27,27),generator=g,requires_grad=True)"
      ],
      "metadata": {
        "id": "LC8DvHrf7G81"
      },
      "execution_count": 93,
      "outputs": []
    },
    {
      "cell_type": "code",
      "source": [
        "#forward- pass\n",
        "\n",
        "#f=wx+b\n",
        "\n",
        "xenc.dtype\n",
        "logits=(xenc@W)\n",
        "counts=logits.exp()\n",
        "probs=counts/counts.sum(1,keepdims=True)\n",
        "probs.shape\n",
        "#probs are nothing but the predicted vector distribution of the next character for each character from the word passed"
      ],
      "metadata": {
        "colab": {
          "base_uri": "https://localhost:8080/"
        },
        "id": "xqps01i6lkfK",
        "outputId": "98640324-8c23-453e-b232-d69170eca7f6"
      },
      "execution_count": 95,
      "outputs": [
        {
          "output_type": "execute_result",
          "data": {
            "text/plain": [
              "torch.Size([228146, 27])"
            ]
          },
          "metadata": {},
          "execution_count": 95
        }
      ]
    },
    {
      "cell_type": "code",
      "source": [
        "#Plucking the probablities from probs using torch.arange\n",
        "\n",
        "loss=-probs[torch.arange(228146),ys].log().mean()\n",
        "loss.item()\n",
        "\n",
        "#I have already found the probabilities and have 27 class of prob for each input sample passed.\n",
        "#Lets say, 5 samples with 27 classes are passed. probs contains [5,27] shape of tensor.\n",
        "#In this probs, I am calculating the loss by finding the prob assigned to the ground output and then penalize it.\n",
        "\n",
        "#negative log-likelihood is the cross-entropy loss using which we can identify the model's capability.\n",
        "\n",
        "\n"
      ],
      "metadata": {
        "colab": {
          "base_uri": "https://localhost:8080/"
        },
        "id": "dIyeSQzYydCn",
        "outputId": "3de5e0a1-a591-43d0-e663-2ab94d574a5a"
      },
      "execution_count": 96,
      "outputs": [
        {
          "output_type": "execute_result",
          "data": {
            "text/plain": [
              "3.758953809738159"
            ]
          },
          "metadata": {},
          "execution_count": 96
        }
      ]
    },
    {
      "cell_type": "code",
      "source": [
        "#backward-pass\n",
        "W.grad= None\n",
        "loss.backward()\n"
      ],
      "metadata": {
        "id": "lHME1_wl6pNI"
      },
      "execution_count": 97,
      "outputs": []
    },
    {
      "cell_type": "code",
      "source": [
        "W.data+= -0.1*W.grad"
      ],
      "metadata": {
        "id": "H8zjM45Q9RLv"
      },
      "execution_count": 98,
      "outputs": []
    },
    {
      "cell_type": "code",
      "source": [
        "#Now, we have the loss. Optimization needs to be done to minimize the loss.\n",
        "losses = {}\n",
        "loss_curve=[]\n",
        "\n",
        "for i in range(5):\n",
        "    print(\"Batch-\"+f'{i}')\n",
        "\n",
        "    for i in range(100):\n",
        "        logits=(xenc@W)\n",
        "        counts=logits.exp()\n",
        "        probs=counts/counts.sum(1,keepdims=True)\n",
        "        probs.shape\n",
        "\n",
        "        loss=-probs[torch.arange(228146),ys].log().mean()+0.01*(W**2).mean()\n",
        "        loss.item()\n",
        "\n",
        "        #backward-pass\n",
        "        W.grad= None\n",
        "        loss.backward()\n",
        "        W.data+= -0.1*W.grad\n",
        "        print(loss.item())\n",
        "        loss_curve.append(loss.item())\n",
        "\n",
        "    losses[lr] = loss_curve\n",
        "\n",
        "\n",
        "#The loss keeps on decreasing each time we run the loop, which depicts that the correct probability is been assigned to the correct output class.\n",
        "#forwardpass, grad and backward pass will be the same for all. except the fact we need to change how weights can be calculated\n"
      ],
      "metadata": {
        "colab": {
          "base_uri": "https://localhost:8080/"
        },
        "id": "SSWYIJD9ZLvs",
        "outputId": "51d58293-35f8-4208-e1b1-1dc73a2d04ad"
      },
      "execution_count": 101,
      "outputs": [
        {
          "output_type": "stream",
          "name": "stdout",
          "text": [
            "Batch-0\n",
            "3.744917154312134\n",
            "3.7440195083618164\n",
            "3.7431232929229736\n",
            "3.742227792739868\n",
            "3.7413339614868164\n",
            "3.7404403686523438\n",
            "3.7395479679107666\n",
            "3.738656997680664\n",
            "3.737767457962036\n",
            "3.736877679824829\n",
            "3.735989809036255\n",
            "3.735102415084839\n",
            "3.7342164516448975\n",
            "3.7333309650421143\n",
            "3.7324471473693848\n",
            "3.7315638065338135\n",
            "3.7306814193725586\n",
            "3.7298004627227783\n",
            "3.7289202213287354\n",
            "3.728040933609009\n",
            "3.7271628379821777\n",
            "3.726285457611084\n",
            "3.7254092693328857\n",
            "3.724534511566162\n",
            "3.7236602306365967\n",
            "3.7227866649627686\n",
            "3.7219138145446777\n",
            "3.7210426330566406\n",
            "3.72017240524292\n",
            "3.7193028926849365\n",
            "3.7184345722198486\n",
            "3.71756649017334\n",
            "3.716700315475464\n",
            "3.715834617614746\n",
            "3.7149698734283447\n",
            "3.714106321334839\n",
            "3.7132439613342285\n",
            "3.7123820781707764\n",
            "3.7115211486816406\n",
            "3.7106614112854004\n",
            "3.7098021507263184\n",
            "3.708944082260132\n",
            "3.70808744430542\n",
            "3.707231283187866\n",
            "3.70637583732605\n",
            "3.705521821975708\n",
            "3.7046682834625244\n",
            "3.7038164138793945\n",
            "3.7029645442962646\n",
            "3.7021141052246094\n",
            "3.7012643814086914\n",
            "3.700416088104248\n",
            "3.699568271636963\n",
            "3.6987216472625732\n",
            "3.697875738143921\n",
            "3.697031021118164\n",
            "3.6961865425109863\n",
            "3.6953439712524414\n",
            "3.6945018768310547\n",
            "3.693660259246826\n",
            "3.6928200721740723\n",
            "3.6919806003570557\n",
            "3.6911423206329346\n",
            "3.690304756164551\n",
            "3.689467668533325\n",
            "3.6886322498321533\n",
            "3.6877970695495605\n",
            "3.6869630813598633\n",
            "3.6861298084259033\n",
            "3.6852974891662598\n",
            "3.6844661235809326\n",
            "3.683635711669922\n",
            "3.6828062534332275\n",
            "3.6819775104522705\n",
            "3.68114972114563\n",
            "3.6803231239318848\n",
            "3.679497241973877\n",
            "3.6786723136901855\n",
            "3.6778476238250732\n",
            "3.6770243644714355\n",
            "3.676201820373535\n",
            "3.6753804683685303\n",
            "3.674560070037842\n",
            "3.6737401485443115\n",
            "3.6729211807250977\n",
            "3.6721031665802\n",
            "3.671285629272461\n",
            "3.6704695224761963\n",
            "3.66965389251709\n",
            "3.6688392162323\n",
            "3.668025255203247\n",
            "3.667213201522827\n",
            "3.6664011478424072\n",
            "3.6655895709991455\n",
            "3.6647794246673584\n",
            "3.6639699935913086\n",
            "3.663161516189575\n",
            "3.662353754043579\n",
            "3.6615469455718994\n",
            "3.660740852355957\n",
            "Batch-1\n",
            "3.65993595123291\n",
            "3.6591312885284424\n",
            "3.65832781791687\n",
            "3.6575253009796143\n",
            "3.656723737716675\n",
            "3.6559224128723145\n",
            "3.6551225185394287\n",
            "3.6543233394622803\n",
            "3.653524875640869\n",
            "3.6527273654937744\n",
            "3.651930570602417\n",
            "3.651134490966797\n",
            "3.6503396034240723\n",
            "3.649545431137085\n",
            "3.648751974105835\n",
            "3.6479594707489014\n",
            "3.647167205810547\n",
            "3.646376848220825\n",
            "3.6455864906311035\n",
            "3.6447973251342773\n",
            "3.6440086364746094\n",
            "3.643221616744995\n",
            "3.64243483543396\n",
            "3.641648530960083\n",
            "3.6408636569976807\n",
            "3.6400792598724365\n",
            "3.6392955780029297\n",
            "3.6385130882263184\n",
            "3.637730836868286\n",
            "3.6369495391845703\n",
            "3.636169910430908\n",
            "3.635390281677246\n",
            "3.6346116065979004\n",
            "3.633833646774292\n",
            "3.633056879043579\n",
            "3.6322803497314453\n",
            "3.631505250930786\n",
            "3.630730390548706\n",
            "3.6299564838409424\n",
            "3.629183769226074\n",
            "3.628411293029785\n",
            "3.6276397705078125\n",
            "3.6268692016601562\n",
            "3.6260995864868164\n",
            "3.6253304481506348\n",
            "3.6245622634887695\n",
            "3.6237947940826416\n",
            "3.6230287551879883\n",
            "3.6222622394561768\n",
            "3.6214969158172607\n",
            "3.6207327842712402\n",
            "3.619969606399536\n",
            "3.619206666946411\n",
            "3.6184446811676025\n",
            "3.617683172225952\n",
            "3.6169228553771973\n",
            "3.6161632537841797\n",
            "3.6154046058654785\n",
            "3.6146466732025146\n",
            "3.613889455795288\n",
            "3.613132953643799\n",
            "3.612377405166626\n",
            "3.6116220951080322\n",
            "3.610868215560913\n",
            "3.6101150512695312\n",
            "3.6093618869781494\n",
            "3.608609914779663\n",
            "3.6078593730926514\n",
            "3.6071088314056396\n",
            "3.6063592433929443\n",
            "3.6056103706359863\n",
            "3.6048622131347656\n",
            "3.6041150093078613\n",
            "3.6033685207366943\n",
            "3.6026225090026855\n",
            "3.6018776893615723\n",
            "3.6011335849761963\n",
            "3.6003897190093994\n",
            "3.5996475219726562\n",
            "3.598905324935913\n",
            "3.5981640815734863\n",
            "3.5974233150482178\n",
            "3.596683979034424\n",
            "3.595944881439209\n",
            "3.5952067375183105\n",
            "3.5944693088531494\n",
            "3.5937323570251465\n",
            "3.592996835708618\n",
            "3.59226131439209\n",
            "3.591526985168457\n",
            "3.5907933712005615\n",
            "3.590059995651245\n",
            "3.5893280506134033\n",
            "3.588596820831299\n",
            "3.5878658294677734\n",
            "3.5871360301971436\n",
            "3.5864064693450928\n",
            "3.5856776237487793\n",
            "3.584949493408203\n",
            "3.5842232704162598\n",
            "Batch-2\n",
            "3.5834968090057373\n",
            "3.582771062850952\n",
            "3.5820460319519043\n",
            "3.581322193145752\n",
            "3.5805985927581787\n",
            "3.5798757076263428\n",
            "3.5791540145874023\n",
            "3.578432559967041\n",
            "3.577712059020996\n",
            "3.5769922733306885\n",
            "3.576273202896118\n",
            "3.575554609298706\n",
            "3.5748372077941895\n",
            "3.574120283126831\n",
            "3.5734047889709473\n",
            "3.572688579559326\n",
            "3.5719735622406006\n",
            "3.5712599754333496\n",
            "3.5705466270446777\n",
            "3.5698344707489014\n",
            "3.569122314453125\n",
            "3.568410873413086\n",
            "3.5677006244659424\n",
            "3.566991090774536\n",
            "3.566281795501709\n",
            "3.5655736923217773\n",
            "3.564865827560425\n",
            "3.5641589164733887\n",
            "3.56345272064209\n",
            "3.5627474784851074\n",
            "3.562042474746704\n",
            "3.561338424682617\n",
            "3.5606348514556885\n",
            "3.5599329471588135\n",
            "3.5592308044433594\n",
            "3.5585296154022217\n",
            "3.557828664779663\n",
            "3.55712890625\n",
            "3.556429862976074\n",
            "3.5557312965393066\n",
            "3.5550334453582764\n",
            "3.5543363094329834\n",
            "3.5536398887634277\n",
            "3.5529444217681885\n",
            "3.5522496700286865\n",
            "3.5515551567077637\n",
            "3.5508618354797363\n",
            "3.550168752670288\n",
            "3.5494766235351562\n",
            "3.5487847328186035\n",
            "3.5480940341949463\n",
            "3.5474038124084473\n",
            "3.5467143058776855\n",
            "3.546025514602661\n",
            "3.545337677001953\n",
            "3.5446507930755615\n",
            "3.5439634323120117\n",
            "3.5432775020599365\n",
            "3.5425922870635986\n",
            "3.54190731048584\n",
            "3.5412230491638184\n",
            "3.5405397415161133\n",
            "3.5398571491241455\n",
            "3.539175510406494\n",
            "3.53849458694458\n",
            "3.537813425064087\n",
            "3.5371334552764893\n",
            "3.536454200744629\n",
            "3.535775899887085\n",
            "3.535097360610962\n",
            "3.5344204902648926\n",
            "3.5337440967559814\n",
            "3.5330681800842285\n",
            "3.532392740249634\n",
            "3.5317184925079346\n",
            "3.5310442447662354\n",
            "3.5303711891174316\n",
            "3.529698610305786\n",
            "3.529026746749878\n",
            "3.528355836868286\n",
            "3.5276849269866943\n",
            "3.527014970779419\n",
            "3.526345729827881\n",
            "3.525677442550659\n",
            "3.5250091552734375\n",
            "3.5243420600891113\n",
            "3.5236754417419434\n",
            "3.523009777069092\n",
            "3.5223443508148193\n",
            "3.521679639816284\n",
            "3.5210158824920654\n",
            "3.520352363586426\n",
            "3.5196897983551025\n",
            "3.5190279483795166\n",
            "3.518366575241089\n",
            "3.5177056789398193\n",
            "3.517045497894287\n",
            "3.5163865089416504\n",
            "3.5157275199890137\n",
            "3.5150692462921143\n",
            "Batch-3\n",
            "3.5144124031066895\n",
            "3.5137550830841064\n",
            "3.513098955154419\n",
            "3.512443780899048\n",
            "3.511789083480835\n",
            "3.5111348628997803\n",
            "3.510481595993042\n",
            "3.5098283290863037\n",
            "3.5091757774353027\n",
            "3.5085244178771973\n",
            "3.50787353515625\n",
            "3.507222890853882\n",
            "3.5065736770629883\n",
            "3.5059244632720947\n",
            "3.5052759647369385\n",
            "3.5046284198760986\n",
            "3.503981113433838\n",
            "3.5033345222473145\n",
            "3.5026888847351074\n",
            "3.5020437240600586\n",
            "3.501399040222168\n",
            "3.5007550716400146\n",
            "3.5001115798950195\n",
            "3.4994685649871826\n",
            "3.498826742172241\n",
            "3.498185396194458\n",
            "3.497544765472412\n",
            "3.4969043731689453\n",
            "3.496264934539795\n",
            "3.495626211166382\n",
            "3.494987964630127\n",
            "3.494349718093872\n",
            "3.493713140487671\n",
            "3.4930765628814697\n",
            "3.492440700531006\n",
            "3.4918057918548584\n",
            "3.49117112159729\n",
            "3.490537643432617\n",
            "3.4899041652679443\n",
            "3.489271402359009\n",
            "3.4886391162872314\n",
            "3.4880080223083496\n",
            "3.487377166748047\n",
            "3.4867470264434814\n",
            "3.486117362976074\n",
            "3.4854884147644043\n",
            "3.4848599433898926\n",
            "3.4842324256896973\n",
            "3.48360538482666\n",
            "3.4829788208007812\n",
            "3.4823529720306396\n",
            "3.4817276000976562\n",
            "3.4811031818389893\n",
            "3.4804790019989014\n",
            "3.47985577583313\n",
            "3.4792325496673584\n",
            "3.4786109924316406\n",
            "3.477989435195923\n",
            "3.4773683547973633\n",
            "3.476747512817383\n",
            "3.476128339767456\n",
            "3.4755091667175293\n",
            "3.47489070892334\n",
            "3.4742724895477295\n",
            "3.4736552238464355\n",
            "3.473038673400879\n",
            "3.4724225997924805\n",
            "3.4718072414398193\n",
            "3.4711923599243164\n",
            "3.4705774784088135\n",
            "3.469963788986206\n",
            "3.469351053237915\n",
            "3.468738317489624\n",
            "3.4681267738342285\n",
            "3.467515230178833\n",
            "3.466904640197754\n",
            "3.466294765472412\n",
            "3.4656851291656494\n",
            "3.465076208114624\n",
            "3.4644672870635986\n",
            "3.463859796524048\n",
            "3.4632530212402344\n",
            "3.462646722793579\n",
            "3.462040424346924\n",
            "3.461435079574585\n",
            "3.4608304500579834\n",
            "3.46022629737854\n",
            "3.459622383117676\n",
            "3.459019660949707\n",
            "3.4584174156188965\n",
            "3.457815647125244\n",
            "3.457214593887329\n",
            "3.456613540649414\n",
            "3.4560136795043945\n",
            "3.455414295196533\n",
            "3.454815149307251\n",
            "3.4542176723480225\n",
            "3.4536197185516357\n",
            "3.4530224800109863\n",
            "3.452425956726074\n",
            "Batch-4\n",
            "3.4518303871154785\n",
            "3.451234817504883\n",
            "3.4506399631500244\n",
            "3.450045347213745\n",
            "3.4494524002075195\n",
            "3.448859453201294\n",
            "3.4482667446136475\n",
            "3.4476749897003174\n",
            "3.4470837116241455\n",
            "3.446492910385132\n",
            "3.4459028244018555\n",
            "3.4453134536743164\n",
            "3.4447245597839355\n",
            "3.444136142730713\n",
            "3.4435479640960693\n",
            "3.442960500717163\n",
            "3.4423739910125732\n",
            "3.4417877197265625\n",
            "3.441202402114868\n",
            "3.440617561340332\n",
            "3.440033197402954\n",
            "3.4394493103027344\n",
            "3.438865900039673\n",
            "3.438283681869507\n",
            "3.437701463699341\n",
            "3.437119960784912\n",
            "3.4365389347076416\n",
            "3.4359583854675293\n",
            "3.4353787899017334\n",
            "3.4347994327545166\n",
            "3.434220790863037\n",
            "3.433642864227295\n",
            "3.4330646991729736\n",
            "3.432487964630127\n",
            "3.4319117069244385\n",
            "3.431335687637329\n",
            "3.430760383605957\n",
            "3.430185556411743\n",
            "3.4296114444732666\n",
            "3.4290378093719482\n",
            "3.428464651107788\n",
            "3.4278922080993652\n",
            "3.4273204803466797\n",
            "3.4267492294311523\n",
            "3.426177978515625\n",
            "3.425607681274414\n",
            "3.4250378608703613\n",
            "3.424469232559204\n",
            "3.4239001274108887\n",
            "3.4233322143554688\n",
            "3.422764539718628\n",
            "3.4221978187561035\n",
            "3.421631336212158\n",
            "3.421065330505371\n",
            "3.4205005168914795\n",
            "3.419935703277588\n",
            "3.4193713665008545\n",
            "3.4188079833984375\n",
            "3.4182446002960205\n",
            "3.417682409286499\n",
            "3.4171204566955566\n",
            "3.4165587425231934\n",
            "3.4159979820251465\n",
            "3.4154374599456787\n",
            "3.4148776531219482\n",
            "3.414318561553955\n",
            "3.413759708404541\n",
            "3.4132015705108643\n",
            "3.412644147872925\n",
            "3.4120872020721436\n",
            "3.4115302562713623\n",
            "3.4109745025634766\n",
            "3.410419225692749\n",
            "3.4098641872406006\n",
            "3.4093096256256104\n",
            "3.4087560176849365\n",
            "3.408202648162842\n",
            "3.4076502323150635\n",
            "3.407097816467285\n",
            "3.406546115875244\n",
            "3.4059948921203613\n",
            "3.405444622039795\n",
            "3.4048945903778076\n",
            "3.4043447971343994\n",
            "3.4037959575653076\n",
            "3.403247356414795\n",
            "3.4026997089385986\n",
            "3.4021525382995605\n",
            "3.4016056060791016\n",
            "3.401059150695801\n",
            "3.400513172149658\n",
            "3.399968147277832\n",
            "3.399423837661743\n",
            "3.3988795280456543\n",
            "3.3983356952667236\n",
            "3.3977925777435303\n",
            "3.397249937057495\n",
            "3.396707773208618\n",
            "3.3961660861968994\n",
            "3.395625591278076\n"
          ]
        }
      ]
    },
    {
      "cell_type": "code",
      "source": [
        "import matplotlib.pyplot as plt\n",
        "\n",
        "for lr, loss_curve in losses.items():\n",
        "    plt.plot(loss_curve, label=f\"lr={lr}\")\n",
        "plt.xlabel(\"Iteration\")\n",
        "plt.ylabel(\"Loss\")\n",
        "plt.legend()\n",
        "plt.title(\"Loss vs Iterations for different learning rates\")\n",
        "plt.show()\n"
      ],
      "metadata": {
        "colab": {
          "base_uri": "https://localhost:8080/",
          "height": 472
        },
        "id": "9xm3TUQbbsMY",
        "outputId": "931ce221-79b4-4614-ced9-091a937da960"
      },
      "execution_count": 91,
      "outputs": [
        {
          "output_type": "display_data",
          "data": {
            "text/plain": [
              "<Figure size 640x480 with 1 Axes>"
            ],
            "image/png": "[encoded data removed]"
          },
          "metadata": {}
        }
      ]
    },
    {
      "cell_type": "code",
      "source": [
        "#This is another way of training the model by calculating the number of bigrams and\n",
        "\n",
        "g= torch.Generator().manual_seed(2147483647)\n",
        "\n",
        "for i in range(5):\n",
        "\n",
        "  out=[]\n",
        "  ix=0\n",
        "\n",
        "  while True:\n",
        "    xenc=F.one_hot(torch.tensor([ix]),num_classes=27).float()\n",
        "\n",
        "    logits=(xenc@W)\n",
        "    counts=logits.exp()\n",
        "    p=counts/counts.sum(1,keepdims=True)\n",
        "    ix=torch.multinomial(p,num_samples=1,replacement=True,generator=g).item()\n",
        "\n",
        "    out.append(itos[ix])\n",
        "    if ix==0:\n",
        "      break\n",
        "  print(''.join(out))"
      ],
      "metadata": {
        "colab": {
          "base_uri": "https://localhost:8080/"
        },
        "id": "UMm1Z4Vxb6bO",
        "outputId": "695e0ba8-e148-4507-de51-d27524c542d4"
      },
      "execution_count": 104,
      "outputs": [
        {
          "output_type": "stream",
          "name": "stdout",
          "text": [
            "juwjdjdjawcqydjufhqyywecnw.\n",
            ".\n",
            "oiin.\n",
            "toziasz.\n",
            "gwt.\n"
          ]
        }
      ]
    }
  ]
}