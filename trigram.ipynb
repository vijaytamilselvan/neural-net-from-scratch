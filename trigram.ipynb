{
  "nbformat": 4,
  "nbformat_minor": 0,
  "metadata": {
    "colab": {
      "provenance": [],
      "authorship_tag": "ABX9TyOEzG8MWp6Fl88o5YAJ3A/w",
      "include_colab_link": true
    },
    "kernelspec": {
      "name": "python3",
      "display_name": "Python 3"
    },
    "language_info": {
      "name": "python"
    }
  },
  "cells": [
    {
      "cell_type": "markdown",
      "metadata": {
        "id": "view-in-github",
        "colab_type": "text"
      },
      "source": [
        "<a href=\"https://colab.research.google.com/github/vijaytamilselvan/neural-net-from-scratch/blob/main/trigram.ipynb\" target=\"_parent\"><img src=\"https://colab.research.google.com/assets/colab-badge.svg\" alt=\"Open In Colab\"/></a>"
      ]
    },
    {
      "cell_type": "code",
      "execution_count": 1,
      "metadata": {
        "id": "CTkEGwwjaZyc"
      },
      "outputs": [],
      "source": [
        "import torch\n",
        "import torch.nn.functional as F\n",
        "import matplotlib.pyplot as plt # for making figures\n",
        "%matplotlib inline"
      ]
    },
    {
      "cell_type": "code",
      "source": [
        "# read in all the words\n",
        "from google.colab import files\n",
        "uploaded = files.upload()\n",
        "words = open('names.txt', 'r').read().splitlines()\n",
        "words[:8]"
      ],
      "metadata": {
        "colab": {
          "base_uri": "https://localhost:8080/",
          "height": 92
        },
        "id": "6xsJe-G6aaio",
        "outputId": "e163cec3-83c9-4ea6-ec37-46d8528cf121"
      },
      "execution_count": 2,
      "outputs": [
        {
          "output_type": "display_data",
          "data": {
            "text/plain": [
              "<IPython.core.display.HTML object>"
            ],
            "text/html": [
              "\n",
              "     <input type=\"file\" id=\"files-bd8d272b-e558-4a2a-89bf-bec925b08d4c\" name=\"files[]\" multiple disabled\n",
              "        style=\"border:none\" />\n",
              "     <output id=\"result-bd8d272b-e558-4a2a-89bf-bec925b08d4c\">\n",
              "      Upload widget is only available when the cell has been executed in the\n",
              "      current browser session. Please rerun this cell to enable.\n",
              "      </output>\n",
              "      <script>// Copyright 2017 Google LLC\n",
              "//\n",
              "// Licensed under the Apache License, Version 2.0 (the \"License\");\n",
              "// you may not use this file except in compliance with the License.\n",
              "// You may obtain a copy of the License at\n",
              "//\n",
              "//      http://www.apache.org/licenses/LICENSE-2.0\n",
              "//\n",
              "// Unless required by applicable law or agreed to in writing, software\n",
              "// distributed under the License is distributed on an \"AS IS\" BASIS,\n",
              "// WITHOUT WARRANTIES OR CONDITIONS OF ANY KIND, either express or implied.\n",
              "// See the License for the specific language governing permissions and\n",
              "// limitations under the License.\n",
              "\n",
              "/**\n",
              " * @fileoverview Helpers for google.colab Python module.\n",
              " */\n",
              "(function(scope) {\n",
              "function span(text, styleAttributes = {}) {\n",
              "  const element = document.createElement('span');\n",
              "  element.textContent = text;\n",
              "  for (const key of Object.keys(styleAttributes)) {\n",
              "    element.style[key] = styleAttributes[key];\n",
              "  }\n",
              "  return element;\n",
              "}\n",
              "\n",
              "// Max number of bytes which will be uploaded at a time.\n",
              "const MAX_PAYLOAD_SIZE = 100 * 1024;\n",
              "\n",
              "function _uploadFiles(inputId, outputId) {\n",
              "  const steps = uploadFilesStep(inputId, outputId);\n",
              "  const outputElement = document.getElementById(outputId);\n",
              "  // Cache steps on the outputElement to make it available for the next call\n",
              "  // to uploadFilesContinue from Python.\n",
              "  outputElement.steps = steps;\n",
              "\n",
              "  return _uploadFilesContinue(outputId);\n",
              "}\n",
              "\n",
              "// This is roughly an async generator (not supported in the browser yet),\n",
              "// where there are multiple asynchronous steps and the Python side is going\n",
              "// to poll for completion of each step.\n",
              "// This uses a Promise to block the python side on completion of each step,\n",
              "// then passes the result of the previous step as the input to the next step.\n",
              "function _uploadFilesContinue(outputId) {\n",
              "  const outputElement = document.getElementById(outputId);\n",
              "  const steps = outputElement.steps;\n",
              "\n",
              "  const next = steps.next(outputElement.lastPromiseValue);\n",
              "  return Promise.resolve(next.value.promise).then((value) => {\n",
              "    // Cache the last promise value to make it available to the next\n",
              "    // step of the generator.\n",
              "    outputElement.lastPromiseValue = value;\n",
              "    return next.value.response;\n",
              "  });\n",
              "}\n",
              "\n",
              "/**\n",
              " * Generator function which is called between each async step of the upload\n",
              " * process.\n",
              " * @param {string} inputId Element ID of the input file picker element.\n",
              " * @param {string} outputId Element ID of the output display.\n",
              " * @return {!Iterable<!Object>} Iterable of next steps.\n",
              " */\n",
              "function* uploadFilesStep(inputId, outputId) {\n",
              "  const inputElement = document.getElementById(inputId);\n",
              "  inputElement.disabled = false;\n",
              "\n",
              "  const outputElement = document.getElementById(outputId);\n",
              "  outputElement.innerHTML = '';\n",
              "\n",
              "  const pickedPromise = new Promise((resolve) => {\n",
              "    inputElement.addEventListener('change', (e) => {\n",
              "      resolve(e.target.files);\n",
              "    });\n",
              "  });\n",
              "\n",
              "  const cancel = document.createElement('button');\n",
              "  inputElement.parentElement.appendChild(cancel);\n",
              "  cancel.textContent = 'Cancel upload';\n",
              "  const cancelPromise = new Promise((resolve) => {\n",
              "    cancel.onclick = () => {\n",
              "      resolve(null);\n",
              "    };\n",
              "  });\n",
              "\n",
              "  // Wait for the user to pick the files.\n",
              "  const files = yield {\n",
              "    promise: Promise.race([pickedPromise, cancelPromise]),\n",
              "    response: {\n",
              "      action: 'starting',\n",
              "    }\n",
              "  };\n",
              "\n",
              "  cancel.remove();\n",
              "\n",
              "  // Disable the input element since further picks are not allowed.\n",
              "  inputElement.disabled = true;\n",
              "\n",
              "  if (!files) {\n",
              "    return {\n",
              "      response: {\n",
              "        action: 'complete',\n",
              "      }\n",
              "    };\n",
              "  }\n",
              "\n",
              "  for (const file of files) {\n",
              "    const li = document.createElement('li');\n",
              "    li.append(span(file.name, {fontWeight: 'bold'}));\n",
              "    li.append(span(\n",
              "        `(${file.type || 'n/a'}) - ${file.size} bytes, ` +\n",
              "        `last modified: ${\n",
              "            file.lastModifiedDate ? file.lastModifiedDate.toLocaleDateString() :\n",
              "                                    'n/a'} - `));\n",
              "    const percent = span('0% done');\n",
              "    li.appendChild(percent);\n",
              "\n",
              "    outputElement.appendChild(li);\n",
              "\n",
              "    const fileDataPromise = new Promise((resolve) => {\n",
              "      const reader = new FileReader();\n",
              "      reader.onload = (e) => {\n",
              "        resolve(e.target.result);\n",
              "      };\n",
              "      reader.readAsArrayBuffer(file);\n",
              "    });\n",
              "    // Wait for the data to be ready.\n",
              "    let fileData = yield {\n",
              "      promise: fileDataPromise,\n",
              "      response: {\n",
              "        action: 'continue',\n",
              "      }\n",
              "    };\n",
              "\n",
              "    // Use a chunked sending to avoid message size limits. See b/62115660.\n",
              "    let position = 0;\n",
              "    do {\n",
              "      const length = Math.min(fileData.byteLength - position, MAX_PAYLOAD_SIZE);\n",
              "      const chunk = new Uint8Array(fileData, position, length);\n",
              "      position += length;\n",
              "\n",
              "      const base64 = btoa(String.fromCharCode.apply(null, chunk));\n",
              "      yield {\n",
              "        response: {\n",
              "          action: 'append',\n",
              "          file: file.name,\n",
              "          data: base64,\n",
              "        },\n",
              "      };\n",
              "\n",
              "      let percentDone = fileData.byteLength === 0 ?\n",
              "          100 :\n",
              "          Math.round((position / fileData.byteLength) * 100);\n",
              "      percent.textContent = `${percentDone}% done`;\n",
              "\n",
              "    } while (position < fileData.byteLength);\n",
              "  }\n",
              "\n",
              "  // All done.\n",
              "  yield {\n",
              "    response: {\n",
              "      action: 'complete',\n",
              "    }\n",
              "  };\n",
              "}\n",
              "\n",
              "scope.google = scope.google || {};\n",
              "scope.google.colab = scope.google.colab || {};\n",
              "scope.google.colab._files = {\n",
              "  _uploadFiles,\n",
              "  _uploadFilesContinue,\n",
              "};\n",
              "})(self);\n",
              "</script> "
            ]
          },
          "metadata": {}
        },
        {
          "output_type": "stream",
          "name": "stdout",
          "text": [
            "Saving names.txt to names.txt\n"
          ]
        },
        {
          "output_type": "execute_result",
          "data": {
            "text/plain": [
              "['emma', 'olivia', 'ava', 'isabella', 'sophia', 'charlotte', 'mia', 'amelia']"
            ]
          },
          "metadata": {},
          "execution_count": 2
        }
      ]
    },
    {
      "cell_type": "code",
      "source": [
        "chars = sorted(list(set(''.join(words))))\n",
        "stoi = {s:i+1 for i,s in enumerate(chars)}\n",
        "stoi['.'] = 0\n",
        "itos = {i:s for s,i in stoi.items()}\n",
        "vocab_size = len(itos)\n",
        "print(itos)\n",
        "print(vocab_size)"
      ],
      "metadata": {
        "colab": {
          "base_uri": "https://localhost:8080/"
        },
        "id": "qVXM2Ld0aet4",
        "outputId": "a076385d-e71f-4997-d522-225813053c9a"
      },
      "execution_count": 3,
      "outputs": [
        {
          "output_type": "stream",
          "name": "stdout",
          "text": [
            "{1: 'a', 2: 'b', 3: 'c', 4: 'd', 5: 'e', 6: 'f', 7: 'g', 8: 'h', 9: 'i', 10: 'j', 11: 'k', 12: 'l', 13: 'm', 14: 'n', 15: 'o', 16: 'p', 17: 'q', 18: 'r', 19: 's', 20: 't', 21: 'u', 22: 'v', 23: 'w', 24: 'x', 25: 'y', 26: 'z', 0: '.'}\n",
            "27\n"
          ]
        }
      ]
    },
    {
      "cell_type": "code",
      "source": [
        "# build the dataset\n",
        "block_size = 3 # context length: how many characters do we take to predict the next one?\n",
        "\n",
        "def build_dataset(words):\n",
        "  X, Y = [], []\n",
        "\n",
        "  for w in words:\n",
        "    context = [0] * block_size\n",
        "    for ch in w + '.':\n",
        "      ix = stoi[ch]\n",
        "      X.append(context)\n",
        "      Y.append(ix)\n",
        "      context = context[1:] + [ix] # crop and append\n",
        "\n",
        "  X = torch.tensor(X)\n",
        "  Y = torch.tensor(Y)\n",
        "  print(X.shape, Y.shape)\n",
        "  return X, Y\n",
        "\n",
        "import random\n",
        "random.seed(42)\n",
        "random.shuffle(words)\n",
        "n1 = int(0.8*len(words))\n",
        "n2 = int(0.9*len(words))\n",
        "\n",
        "Xtr,  Ytr  = build_dataset(words[:n1])     # 80%\n",
        "Xdev, Ydev = build_dataset(words[n1:n2])   # 10%\n",
        "Xte,  Yte  = build_dataset(words[n2:])     # 10%"
      ],
      "metadata": {
        "colab": {
          "base_uri": "https://localhost:8080/"
        },
        "id": "X8wzoAhRagm-",
        "outputId": "1e44d524-89f1-48db-fda1-357df339cf3c"
      },
      "execution_count": 4,
      "outputs": [
        {
          "output_type": "stream",
          "name": "stdout",
          "text": [
            "torch.Size([182625, 3]) torch.Size([182625])\n",
            "torch.Size([22655, 3]) torch.Size([22655])\n",
            "torch.Size([22866, 3]) torch.Size([22866])\n"
          ]
        }
      ]
    },
    {
      "cell_type": "code",
      "source": [
        "# MLP revisited\n",
        "n_embd = 10 # the dimensionality of the character embedding vectors\n",
        "n_hidden = 200 # the number of neurons in the hidden layer of the MLP\n",
        "\n",
        "g = torch.Generator().manual_seed(2147483647) # for reproducibility\n",
        "C  = torch.randn((vocab_size, n_embd),            generator=g)\n",
        "W1 = torch.randn((n_embd * block_size, n_hidden), generator=g) * (5/3)/((n_embd * block_size)**0.5) # 0.2\n",
        "b1 = torch.randn(n_hidden,                        generator=g) * 0.01\n",
        "W2 = torch.randn((n_hidden, vocab_size),          generator=g) * 0.01\n",
        "b2 = torch.randn(vocab_size,                      generator=g) * 0\n",
        "\n",
        "# BatchNorm parameters\n",
        "bngain = torch.ones((1, n_hidden))\n",
        "bnbias = torch.zeros((1, n_hidden))\n",
        "bnmean_running = torch.zeros((1, n_hidden))\n",
        "bnstd_running = torch.ones((1, n_hidden))\n",
        "\n",
        "parameters = [C, W1, W2, b2, bngain, bnbias]\n",
        "print(sum(p.nelement() for p in parameters)) # number of parameters in total\n",
        "for p in parameters:\n",
        "  p.requires_grad = True"
      ],
      "metadata": {
        "colab": {
          "base_uri": "https://localhost:8080/"
        },
        "id": "IX8x0LDnajAG",
        "outputId": "4c1b78ce-c1fc-4e39-e854-2ef8026711d2"
      },
      "execution_count": 5,
      "outputs": [
        {
          "output_type": "stream",
          "name": "stdout",
          "text": [
            "12097\n"
          ]
        }
      ]
    },
    {
      "cell_type": "code",
      "source": [
        "# same optimization as last time\n",
        "max_steps = 200000\n",
        "batch_size = 32\n",
        "lossi = []\n",
        "\n",
        "for i in range(max_steps):\n",
        "\n",
        "  # minibatch construct\n",
        "  ix = torch.randint(0, Xtr.shape[0], (batch_size,), generator=g)\n",
        "  Xb, Yb = Xtr[ix], Ytr[ix] # batch X,Y\n",
        "\n",
        "  # forward pass\n",
        "  emb = C[Xb] # embed the characters into vectors\n",
        "  embcat = emb.view(emb.shape[0], -1) # concatenate the vectors\n",
        "  # Linear layer\n",
        "  hpreact = embcat @ W1 #+ b1 # hidden layer pre-activation\n",
        "  # BatchNorm layer\n",
        "  # -------------------------------------------------------------\n",
        "  bnmeani = hpreact.mean(0, keepdim=True)\n",
        "  bnstdi = hpreact.std(0, keepdim=True)\n",
        "  hpreact = bngain * (hpreact - bnmeani) / bnstdi + bnbias\n",
        "  with torch.no_grad():\n",
        "    bnmean_running = 0.999 * bnmean_running + 0.001 * bnmeani\n",
        "    bnstd_running = 0.999 * bnstd_running + 0.001 * bnstdi\n",
        "  # -------------------------------------------------------------\n",
        "  # Non-linearity\n",
        "  h = torch.tanh(hpreact) # hidden layer\n",
        "  logits = h @ W2 + b2 # output layer\n",
        "  loss = F.cross_entropy(logits, Yb) # loss function\n",
        "\n",
        "  # backward pass\n",
        "  for p in parameters:\n",
        "    p.grad = None\n",
        "  loss.backward()\n",
        "\n",
        "  # update\n",
        "  lr = 0.1 if i < 100000 else 0.01 # step learning rate decay\n",
        "  for p in parameters:\n",
        "    p.data += -lr * p.grad\n",
        "\n",
        "  # track stats\n",
        "  if i % 10000 == 0: # print every once in a while\n",
        "    print(f'{i:7d}/{max_steps:7d}: {loss.item():.4f}')\n",
        "  lossi.append(loss.log10().item())\n"
      ],
      "metadata": {
        "colab": {
          "base_uri": "https://localhost:8080/"
        },
        "id": "EyA6tr4wbojc",
        "outputId": "a5926ef5-e3c1-43d9-9f02-cc87c2fdc5b2"
      },
      "execution_count": 6,
      "outputs": [
        {
          "output_type": "stream",
          "name": "stdout",
          "text": [
            "      0/ 200000: 3.3147\n",
            "  10000/ 200000: 2.1984\n",
            "  20000/ 200000: 2.3375\n",
            "  30000/ 200000: 2.4359\n",
            "  40000/ 200000: 2.0119\n",
            "  50000/ 200000: 2.2595\n",
            "  60000/ 200000: 2.4775\n",
            "  70000/ 200000: 2.1020\n",
            "  80000/ 200000: 2.2788\n",
            "  90000/ 200000: 2.1862\n",
            " 100000/ 200000: 1.9474\n",
            " 110000/ 200000: 2.3010\n",
            " 120000/ 200000: 1.9837\n",
            " 130000/ 200000: 2.4523\n",
            " 140000/ 200000: 2.3839\n",
            " 150000/ 200000: 2.1987\n",
            " 160000/ 200000: 1.9733\n",
            " 170000/ 200000: 1.8668\n",
            " 180000/ 200000: 1.9973\n",
            " 190000/ 200000: 1.8347\n"
          ]
        }
      ]
    },
    {
      "cell_type": "code",
      "source": [
        "plt.hist(hpreact.view(-1).tolist(),50)"
      ],
      "metadata": {
        "colab": {
          "base_uri": "https://localhost:8080/",
          "height": 734
        },
        "id": "QlJeHKB2R6MG",
        "outputId": "67a1ea5a-cc65-4100-9344-3af1efeb2743"
      },
      "execution_count": null,
      "outputs": [
        {
          "output_type": "execute_result",
          "data": {
            "text/plain": [
              "(array([  6.,   3.,   4.,  10.,  15.,  17.,  29.,  28.,  43.,  53.,  53.,\n",
              "         62., 108., 139., 159., 191., 200., 226., 251., 249., 299., 291.,\n",
              "        291., 315., 336., 342., 330., 254., 265., 311., 238., 223., 191.,\n",
              "        151., 170., 122., 106.,  89.,  64.,  42.,  35.,  31.,  26.,   8.,\n",
              "         10.,   7.,   5.,   0.,   1.,   1.]),\n",
              " array([-3.1161902 , -2.98841553, -2.86064086, -2.73286619, -2.60509152,\n",
              "        -2.47731686, -2.34954219, -2.22176752, -2.09399285, -1.96621819,\n",
              "        -1.83844352, -1.71066885, -1.58289418, -1.45511951, -1.32734485,\n",
              "        -1.19957018, -1.07179551, -0.94402084, -0.81624618, -0.68847151,\n",
              "        -0.56069684, -0.43292217, -0.3051475 , -0.17737284, -0.04959817,\n",
              "         0.0781765 ,  0.20595117,  0.33372583,  0.4615005 ,  0.58927517,\n",
              "         0.71704984,  0.8448245 ,  0.97259917,  1.10037384,  1.22814851,\n",
              "         1.35592318,  1.48369784,  1.61147251,  1.73924718,  1.86702185,\n",
              "         1.99479651,  2.12257118,  2.25034585,  2.37812052,  2.50589519,\n",
              "         2.63366985,  2.76144452,  2.88921919,  3.01699386,  3.14476852,\n",
              "         3.27254319]),\n",
              " <BarContainer object of 50 artists>)"
            ]
          },
          "metadata": {},
          "execution_count": 14
        },
        {
          "output_type": "display_data",
          "data": {
            "text/plain": [
              "<Figure size 640x480 with 1 Axes>"
            ],
            "image/png": "[encoded data removed]"
          },
          "metadata": {}
        }
      ]
    },
    {
      "cell_type": "code",
      "source": [
        "@torch.no_grad() # this decorator disables gradient tracking\n",
        "def split_loss(split):\n",
        "  x,y = {\n",
        "    'train': (Xtr, Ytr),\n",
        "    'val': (Xdev, Ydev),\n",
        "    'test': (Xte, Yte),\n",
        "  }[split]\n",
        "  emb = C[x] # (N, block_size, n_embd)\n",
        "  embcat = emb.view(emb.shape[0], -1) # concat into (N, block_size * n_embd)\n",
        "  hpreact = embcat @ W1 # + b1\n",
        "  #hpreact = bngain * (hpreact - hpreact.mean(0, keepdim=True)) / hpreact.std(0, keepdim=True) + bnbias\n",
        "  hpreact = bngain * (hpreact - bnmean_running) / bnstd_running + bnbias\n",
        "  h = torch.tanh(hpreact) # (N, n_hidden)\n",
        "  logits = h @ W2 + b2 # (N, vocab_size)\n",
        "  loss = F.cross_entropy(logits, y)\n",
        "  print(split, loss.item())\n",
        "\n",
        "split_loss('train')\n",
        "split_loss('val')"
      ],
      "metadata": {
        "id": "DkOhMwUbRv_G",
        "colab": {
          "base_uri": "https://localhost:8080/"
        },
        "outputId": "359822af-9cac-4527-89ff-6a7b2520c104"
      },
      "execution_count": 11,
      "outputs": [
        {
          "output_type": "stream",
          "name": "stdout",
          "text": [
            "train 2.0504956245422363\n",
            "val 2.097503423690796\n"
          ]
        }
      ]
    },
    {
      "cell_type": "markdown",
      "source": [
        "The loss I get at the first iteration is very high which indicates that the model predicts the character with the high confidence for wrong character."
      ],
      "metadata": {
        "id": "5-FRfNJbOVNx"
      }
    },
    {
      "cell_type": "code",
      "source": [
        "logits[0]"
      ],
      "metadata": {
        "colab": {
          "base_uri": "https://localhost:8080/"
        },
        "id": "wZPSQ0oJSyc-",
        "outputId": "d30382f0-3739-410c-bb78-1c21f5669bfc"
      },
      "execution_count": null,
      "outputs": [
        {
          "output_type": "execute_result",
          "data": {
            "text/plain": [
              "tensor([ 2.7603,  2.7644, -1.9144,  1.0708,  1.2832,  0.1873, -2.3983, -1.7475,\n",
              "        -2.0877,  1.3505, -0.5690,  1.0778,  2.4107, -0.3958,  2.8949,  0.1269,\n",
              "        -2.9696, -2.4876, -0.1820,  1.7994,  1.2614, -1.1135, -0.1903, -2.1658,\n",
              "        -1.7531, -0.4496,  0.6425], grad_fn=<SelectBackward0>)"
            ]
          },
          "metadata": {},
          "execution_count": 13
        }
      ]
    },
    {
      "cell_type": "code",
      "source": [
        "#tanh is the activation function introduced to have the non-linearity into the model. When we take the gradient of the tanh which is (1-t*2) * out.grad, t results in zero for most of the cases, which will pass the out.grad to pass through without any learnings.\n",
        "#Softmax converts the raw logits into the probabilities. We can use cross entropy method to do the softmax and then finding the negative log likelyhood to get the loss of the model.\n",
        "#Softmax+nll=cross_entropy method. Averaging the 32 input context over 27 classes- Each class do have one probability score that mae be high or low. Finding the negative loglikelyhood for each 32 inputs and then calculating the average.\n",
        "#tanh has the problem of vanishing gradients when the h value is too high or low, that cause the neuron inefficient to learn the patterns as there is grad of tanh becomes one which pass thr grad without making any change.\n",
        "\n",
        "#Need of Gaussian distribution-\n",
        "\n",
        "#Since we neglect the negative values in the probability distribution(tanh neglects neg values), that will eventually become inefficient as these only passes through the postive values and clamps the negative values.\n",
        "#In order to compensate the above effect of non-linearity, gaussian ditribution is introduced where weights(w) is divided by sq.rt of 10.\n",
        "#Gaussian distribution makes the zero mean which helps our gradient to be well behaved and preventing symmetry, preventing vanishing/exploding gradient.\n",
        "#This comes in as spacialized initization names as Kaiming_normal, where the weights will be initialized\n",
        "#This is less effecting as it doesn't really reduce much of the loss.\n",
        "\n",
        "#Batch Normalization\n",
        "\n",
        "#I take the input sample. ex. 32, and normalize this commplete batch (x-x.mean)/x.std\n",
        "#bngain* batch_norm_output+bnbias\n",
        "#Batch normalization helps to control the scale of activations which again is connected to well behaved gradient, preventing vanishing and exploding gradient.\n",
        "#Batch norm has it's own bias and offset we are adding. So, bias at the initialization is not needed when we go for batch norm.\n",
        "#In addition, bnmean and bnbias is been keeping track without involved in back prop as we make inference using this.\n",
        "\n",
        "\n",
        "#Batch- norm helps stabilize the model which is very deep(contains lot of layers)\n",
        "#Activation distribution, gradient distribution, Weight-grad, update to data ratio- Diagnostic tool\n",
        "\n"
      ],
      "metadata": {
        "id": "or7-cti1GZUL"
      },
      "execution_count": null,
      "outputs": []
    },
    {
      "cell_type": "code",
      "source": [
        "@torch.no_grad()\n",
        "def evaluate_split(split):\n",
        "    # Choose the appropriate dataset\n",
        "    splitX, splitY = {\n",
        "        'train': (Xtr, Ytr),\n",
        "        'val': (Xdev, Ydev),\n",
        "        'test': (Xte, Yte),\n",
        "    }[split]\n",
        "\n",
        "    emb = C[splitX]                          # Look up embeddings\n",
        "    embcat = emb.view(emb.shape[0], -1)     # Flatten\n",
        "    hpreact = embcat @ W1                   # Linear layer\n",
        "    hpreact = bngain * (hpreact - bnmean_running) / bnstd_running + bnbias  # BatchNorm\n",
        "    h = torch.tanh(hpreact)                 # Non-linear activation\n",
        "    logits = h @ W2 + b2                    # Output layer\n",
        "\n",
        "    loss = F.cross_entropy(logits, splitY)  # Calculate loss\n",
        "    pred = torch.argmax(logits, dim=1)\n",
        "    acc = (pred == splitY).float().mean()   # Accuracy\n",
        "\n",
        "    print(f\"{split.upper()} → Loss: {loss.item():.4f}, Accuracy: {acc.item()*100:.2f}%\")\n",
        "    return loss.item(), acc.item()\n"
      ],
      "metadata": {
        "id": "iodL1fpYEjCC"
      },
      "execution_count": 7,
      "outputs": []
    },
    {
      "cell_type": "code",
      "source": [],
      "metadata": {
        "id": "K9xNR2Qkr1FB"
      },
      "execution_count": null,
      "outputs": []
    },
    {
      "cell_type": "code",
      "source": [
        "evaluate_split('val')"
      ],
      "metadata": {
        "colab": {
          "base_uri": "https://localhost:8080/"
        },
        "id": "FFQgbQRYErWU",
        "outputId": "44923efc-aac3-4d84-fd30-b8fdbf69d046"
      },
      "execution_count": 9,
      "outputs": [
        {
          "output_type": "stream",
          "name": "stdout",
          "text": [
            "VAL → Loss: 2.1051, Accuracy: 33.60%\n"
          ]
        },
        {
          "output_type": "execute_result",
          "data": {
            "text/plain": [
              "(2.1050572395324707, 0.33599647879600525)"
            ]
          },
          "metadata": {},
          "execution_count": 9
        }
      ]
    },
    {
      "cell_type": "code",
      "source": [
        "def predict_next_char(context):\n",
        "    context_idx = [stoi[c] for c in context]   # stoi: character to index\n",
        "    x = torch.tensor([context_idx])            # batch of 1\n",
        "    emb = C[x]                                 # embed\n",
        "    embcat = emb.view(1, -1)                   # flatten\n",
        "    hpreact = embcat @ W1\n",
        "    hpreact = bngain * (hpreact - bnmean_running) / bnstd_running + bnbias\n",
        "    h = torch.tanh(hpreact)\n",
        "    logits = h @ W2 + b2\n",
        "    probs = F.softmax(logits, dim=1)           # convert logits to probabilities\n",
        "    ix = torch.multinomial(probs, num_samples=1).item()  # sample next char index\n",
        "    return itos[ix]                            # return actual character\n"
      ],
      "metadata": {
        "id": "vi-O23dsr2Aa"
      },
      "execution_count": 10,
      "outputs": []
    },
    {
      "cell_type": "code",
      "source": [
        "predict_next_char('stu')"
      ],
      "metadata": {
        "colab": {
          "base_uri": "https://localhost:8080/",
          "height": 35
        },
        "id": "7_1jASlEr5ZV",
        "outputId": "10e08716-d3a0-41e2-c93c-39b938ee6512"
      },
      "execution_count": 20,
      "outputs": [
        {
          "output_type": "execute_result",
          "data": {
            "text/plain": [
              "'e'"
            ],
            "application/vnd.google.colaboratory.intrinsic+json": {
              "type": "string"
            }
          },
          "metadata": {},
          "execution_count": 20
        }
      ]
    },
    {
      "cell_type": "code",
      "source": [
        "def generate_name(max_len=20):\n",
        "    out = []\n",
        "    context = [0] * block_size  # start with all start tokens (0)\n",
        "\n",
        "    while True:\n",
        "        x = torch.tensor([context])            # batch size = 1\n",
        "        emb = C[x]\n",
        "        embcat = emb.view(1, -1)\n",
        "        hpreact = embcat @ W1\n",
        "        hpreact = bngain * (hpreact - bnmean_running) / bnstd_running + bnbias\n",
        "        h = torch.tanh(hpreact)\n",
        "        logits = h @ W2 + b2\n",
        "        probs = F.softmax(logits, dim=1)\n",
        "        ix = torch.multinomial(probs, num_samples=1).item()\n",
        "\n",
        "        if ix == 0 or len(out) >= max_len:     # end token or max length\n",
        "            break\n",
        "        out.append(itos[ix])                   # convert to char\n",
        "        context = context[1:] + [ix]           # slide the window\n",
        "\n",
        "    return ''.join(out)\n"
      ],
      "metadata": {
        "id": "Gn4p--p9-hgK"
      },
      "execution_count": 21,
      "outputs": []
    },
    {
      "cell_type": "code",
      "source": [
        "generate_name()"
      ],
      "metadata": {
        "colab": {
          "base_uri": "https://localhost:8080/",
          "height": 35
        },
        "id": "U1HVgh28-jop",
        "outputId": "9de446cc-863a-4ff1-9bde-497516cde2b0"
      },
      "execution_count": 35,
      "outputs": [
        {
          "output_type": "execute_result",
          "data": {
            "text/plain": [
              "'kenna'"
            ],
            "application/vnd.google.colaboratory.intrinsic+json": {
              "type": "string"
            }
          },
          "metadata": {},
          "execution_count": 35
        }
      ]
    }
  ]
}